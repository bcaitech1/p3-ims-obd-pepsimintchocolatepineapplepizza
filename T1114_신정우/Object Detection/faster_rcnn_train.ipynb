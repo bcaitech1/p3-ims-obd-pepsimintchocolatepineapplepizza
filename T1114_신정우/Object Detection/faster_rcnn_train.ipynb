{
 "cells": [
  {
   "cell_type": "code",
   "execution_count": 1,
   "metadata": {
    "pycharm": {
     "name": "#%%\n"
    }
   },
   "outputs": [],
   "source": [
    "from mmcv import Config\n",
    "from mmdet.datasets import build_dataset\n",
    "from mmdet.models import build_detector\n",
    "from mmdet.apis import train_detector\n",
    "from mmdet.datasets import (build_dataloader, build_dataset,\n",
    "                            replace_ImageToTensor)\n",
    "from ipywidgets import FloatProgress"
   ]
  },
  {
   "cell_type": "code",
   "execution_count": 6,
   "metadata": {
    "pycharm": {
     "name": "#%%\n"
    }
   },
   "outputs": [],
   "source": [
    "classes = (\"UNKNOWN\", \"General trash\", \"Paper\", \"Paper pack\", \"Metal\", \"Glass\", \n",
    "           \"Plastic\", \"Styrofoam\", \"Plastic bag\", \"Battery\", \"Clothing\")\n",
    "# config file 들고오기\n",
    "# /opt/ml/code/mmdetection_trash/configs/faster_rcnn/faster_rcnn_x101_64x4d_fpn_2x_coco.py\n",
    "# mask\n",
    "# /opt/ml/code/mmdetection_trash/configs/mask_rcnn/mask_rcnn_r50_fpn_2x_coco.py\n",
    "cfg = Config.fromfile('/opt/ml/code/mmdetection_trash/configs/trash/mask_rcnn/mask_rcnn_r50_fpn_1x_trash.py')\n",
    "\n",
    "#/opt/ml/input/data/train.json\n",
    "PREFIX = '/opt/ml/input/data/'\n",
    "\n",
    "\n",
    "# dataset 바꾸기\n",
    "cfg.data.train.classes = classes\n",
    "cfg.data.train.img_prefix = PREFIX\n",
    "cfg.data.train.ann_file = PREFIX + 'train.json'\n",
    "cfg.data.train.pipeline[2]['img_scale'] = (512, 512)\n",
    "\n",
    "cfg.data.val.classes = classes\n",
    "cfg.data.val.img_prefix = PREFIX\n",
    "cfg.data.val.ann_file = PREFIX + 'val.json'\n",
    "cfg.data.val.pipeline[1]['img_scale'] = (512, 512)\n",
    "\n",
    "cfg.data.test.classes = classes\n",
    "cfg.data.test.img_prefix = PREFIX\n",
    "cfg.data.test.ann_file = PREFIX + 'test.json'\n",
    "cfg.data.test.pipeline[1]['img_scale'] = (512, 512)\n",
    "\n",
    "cfg.data.samples_per_gpu = 4\n",
    "\n",
    "# CUSTOM\n",
    "cfg.checkpoint_config = dict(interval=1, max_keep_ckpts=3)\n",
    "#cfg.optimizer = dict(type='Adam', lr=0.001, weight_decay=0.0001)\n",
    "'''\n",
    "cfg.lr_config = dict(\n",
    "    policy='CosineRestart',\n",
    "    warmup='linear',\n",
    "    warmup_iters=500,\n",
    "    warmup_ratio=1.0 / 10,\n",
    "    periods=[12],\n",
    "    restart_weights = [1],\n",
    "    min_lr_ratio=1e-5)\n",
    "'''\n",
    "cfg.model.roi_head.bbox_head.num_classes = 11\n",
    "cfg.model.roi_head.mask_head.num_classes = 11\n",
    "\n",
    "cfg.seed=24\n",
    "cfg.gpu_ids = [0]\n",
    "cfg.work_dir = './work_dirs/mask_rcnn_r50_fpn_1x_trash'\n",
    "\n",
    "cfg.model.roi_head.bbox_head.num_classes = 11\n",
    "\n",
    "cfg.optimizer_config.grad_clip = dict(max_norm=35, norm_type=2)"
   ]
  },
  {
   "cell_type": "code",
   "execution_count": 7,
   "metadata": {
    "pycharm": {
     "name": "#%%\n"
    }
   },
   "outputs": [
    {
     "output_type": "stream",
     "name": "stderr",
     "text": [
      "2021-05-14 13:49:14,083 - mmdet - INFO - load model from: torchvision://resnet50\n",
      "2021-05-14 13:49:14,084 - mmdet - INFO - Use load_from_torchvision loader\n",
      "2021-05-14 13:49:14,335 - mmdet - WARNING - The model and loaded state dict do not match exactly\n",
      "\n",
      "unexpected key in source state_dict: fc.weight, fc.bias\n",
      "\n"
     ]
    }
   ],
   "source": [
    "model = build_detector(cfg.model)"
   ]
  },
  {
   "cell_type": "code",
   "execution_count": 8,
   "metadata": {
    "pycharm": {
     "name": "#%%\n"
    }
   },
   "outputs": [
    {
     "output_type": "stream",
     "name": "stdout",
     "text": [
      "loading annotations into memory...\n",
      "Done (t=3.63s)\n",
      "creating index...\n",
      "index created!\n"
     ]
    }
   ],
   "source": [
    "datasets = [build_dataset(cfg.data.train)]"
   ]
  },
  {
   "cell_type": "code",
   "execution_count": 9,
   "metadata": {},
   "outputs": [
    {
     "output_type": "stream",
     "name": "stdout",
     "text": [
      "loading annotations into memory...\n",
      "2021-05-14 13:49:19,051 - mmdet - INFO - Start running, host: root@f8a15f3ed9af, work_dir: /opt/ml/code/mmdetection_trash/work_dirs/mask_rcnn_r50_fpn_1x_trash\n",
      "Done (t=0.82s)\n",
      "creating index...\n",
      "index created!\n",
      "2021-05-14 13:49:19,052 - mmdet - INFO - workflow: [('train', 1)], max: 36 epochs\n",
      "2021-05-14 13:49:41,202 - mmdet - INFO - Epoch [1][50/655]\tlr: 1.978e-03, eta: 2:53:41, time: 0.443, data_time: 0.066, memory: 2891, loss_rpn_cls: 0.6075, loss_rpn_bbox: 0.0896, loss_cls: 0.7146, acc: 85.5381, loss_bbox: 0.1767, loss_mask: 0.8619, loss: 2.4503, grad_norm: 8.2252\n",
      "2021-05-14 13:50:02,060 - mmdet - INFO - Epoch [1][100/655]\tlr: 3.976e-03, eta: 2:48:17, time: 0.417, data_time: 0.020, memory: 3242, loss_rpn_cls: 0.2337, loss_rpn_bbox: 0.0808, loss_cls: 0.4430, acc: 90.6172, loss_bbox: 0.3476, loss_mask: 0.6740, loss: 1.7792, grad_norm: 3.3702\n",
      "2021-05-14 13:50:23,044 - mmdet - INFO - Epoch [1][150/655]\tlr: 5.974e-03, eta: 2:46:34, time: 0.420, data_time: 0.021, memory: 3337, loss_rpn_cls: 0.2049, loss_rpn_bbox: 0.0915, loss_cls: 0.4537, acc: 89.8564, loss_bbox: 0.3754, loss_mask: 0.6297, loss: 1.7552, grad_norm: 4.1333\n",
      "2021-05-14 13:50:43,805 - mmdet - INFO - Epoch [1][200/655]\tlr: 7.972e-03, eta: 2:45:07, time: 0.415, data_time: 0.020, memory: 3337, loss_rpn_cls: 0.2008, loss_rpn_bbox: 0.0766, loss_cls: 0.4162, acc: 90.3887, loss_bbox: 0.3542, loss_mask: 0.5910, loss: 1.6388, grad_norm: 4.3530\n",
      "2021-05-14 13:51:04,851 - mmdet - INFO - Epoch [1][250/655]\tlr: 9.970e-03, eta: 2:44:32, time: 0.421, data_time: 0.020, memory: 3337, loss_rpn_cls: 0.2150, loss_rpn_bbox: 0.0796, loss_cls: 0.4524, acc: 89.7031, loss_bbox: 0.3817, loss_mask: 0.5765, loss: 1.7052, grad_norm: 4.0831\n",
      "2021-05-14 13:51:26,264 - mmdet - INFO - Epoch [1][300/655]\tlr: 1.197e-02, eta: 2:44:31, time: 0.428, data_time: 0.019, memory: 3480, loss_rpn_cls: 0.1619, loss_rpn_bbox: 0.0733, loss_cls: 0.4524, acc: 89.1973, loss_bbox: 0.3897, loss_mask: 0.5351, loss: 1.6123, grad_norm: 3.3707\n",
      "2021-05-14 13:51:47,606 - mmdet - INFO - Epoch [1][350/655]\tlr: 1.397e-02, eta: 2:44:19, time: 0.427, data_time: 0.021, memory: 3489, loss_rpn_cls: 0.1521, loss_rpn_bbox: 0.0761, loss_cls: 0.4458, acc: 88.9541, loss_bbox: 0.4019, loss_mask: 0.5217, loss: 1.5976, grad_norm: 3.5159\n",
      "2021-05-14 13:52:08,598 - mmdet - INFO - Epoch [1][400/655]\tlr: 1.596e-02, eta: 2:43:44, time: 0.420, data_time: 0.019, memory: 3489, loss_rpn_cls: 0.1614, loss_rpn_bbox: 0.0774, loss_cls: 0.4445, acc: 89.0391, loss_bbox: 0.3841, loss_mask: 0.5175, loss: 1.5849, grad_norm: 3.0992\n",
      "2021-05-14 13:52:30,125 - mmdet - INFO - Epoch [1][450/655]\tlr: 1.796e-02, eta: 2:43:40, time: 0.431, data_time: 0.022, memory: 3489, loss_rpn_cls: 0.1670, loss_rpn_bbox: 0.0881, loss_cls: 0.4850, acc: 87.7803, loss_bbox: 0.4101, loss_mask: 0.4964, loss: 1.6467, grad_norm: 3.0543\n",
      "2021-05-14 13:52:51,186 - mmdet - INFO - Epoch [1][500/655]\tlr: 1.996e-02, eta: 2:43:11, time: 0.421, data_time: 0.018, memory: 3489, loss_rpn_cls: 0.1290, loss_rpn_bbox: 0.0612, loss_cls: 0.4320, acc: 89.4590, loss_bbox: 0.3574, loss_mask: 0.4603, loss: 1.4399, grad_norm: 2.9876\n",
      "2021-05-14 13:53:13,264 - mmdet - INFO - Epoch [1][550/655]\tlr: 2.000e-02, eta: 2:43:26, time: 0.442, data_time: 0.021, memory: 3554, loss_rpn_cls: 0.1679, loss_rpn_bbox: 0.0802, loss_cls: 0.4826, acc: 88.1455, loss_bbox: 0.3990, loss_mask: 0.4598, loss: 1.5894, grad_norm: 3.1131\n",
      "2021-05-14 13:53:34,692 - mmdet - INFO - Epoch [1][600/655]\tlr: 2.000e-02, eta: 2:43:10, time: 0.429, data_time: 0.019, memory: 3554, loss_rpn_cls: 0.1452, loss_rpn_bbox: 0.0671, loss_cls: 0.4414, acc: 88.9355, loss_bbox: 0.3646, loss_mask: 0.4408, loss: 1.4590, grad_norm: 2.9166\n",
      "2021-05-14 13:53:56,359 - mmdet - INFO - Epoch [1][650/655]\tlr: 2.000e-02, eta: 2:43:02, time: 0.433, data_time: 0.020, memory: 3554, loss_rpn_cls: 0.1381, loss_rpn_bbox: 0.0738, loss_cls: 0.4583, acc: 88.2139, loss_bbox: 0.3891, loss_mask: 0.4416, loss: 1.5009, grad_norm: 2.7103\n",
      "2021-05-14 13:53:58,601 - mmdet - INFO - Saving checkpoint at 1 epochs\n",
      "[>>>>>>>>>>>>>>>>>>>>>>>>>>>>>>] 655/655, 7.1 task/s, elapsed: 92s, ETA:     0s2021-05-14 13:55:35,069 - mmdet - INFO - Evaluating bbox...\n",
      "Loading and preparing results...\n",
      "DONE (t=1.59s)\n",
      "creating index...\n",
      "index created!\n",
      "Running per image evaluation...\n",
      "Evaluate annotation type *bbox*\n",
      "DONE (t=7.18s).\n",
      "Accumulating evaluation results...\n",
      "2021-05-14 13:55:45,545 - mmdet - INFO - Epoch(val) [1][655]\tbbox_mAP: 0.0320, bbox_mAP_50: 0.0710, bbox_mAP_75: 0.0230, bbox_mAP_s: 0.0060, bbox_mAP_m: 0.0390, bbox_mAP_l: 0.0610, bbox_mAP_copypaste: 0.032 0.071 0.023 0.006 0.039 0.061\n",
      "DONE (t=1.56s).\n",
      "Average Precision  (AP) @[ IoU=0.50:0.95 | area=   all | maxDets=100 ] = 0.032\n",
      "Average Precision  (AP) @[ IoU=0.50      | area=   all | maxDets=1000 ] = 0.071\n",
      "Average Precision  (AP) @[ IoU=0.75      | area=   all | maxDets=1000 ] = 0.023\n",
      "Average Precision  (AP) @[ IoU=0.50:0.95 | area= small | maxDets=1000 ] = 0.006\n",
      "Average Precision  (AP) @[ IoU=0.50:0.95 | area=medium | maxDets=1000 ] = 0.039\n",
      "Average Precision  (AP) @[ IoU=0.50:0.95 | area= large | maxDets=1000 ] = 0.061\n",
      "Average Recall     (AR) @[ IoU=0.50:0.95 | area=   all | maxDets=100 ] = 0.103\n",
      "Average Recall     (AR) @[ IoU=0.50:0.95 | area=   all | maxDets=300 ] = 0.103\n",
      "Average Recall     (AR) @[ IoU=0.50:0.95 | area=   all | maxDets=1000 ] = 0.103\n",
      "Average Recall     (AR) @[ IoU=0.50:0.95 | area= small | maxDets=1000 ] = 0.034\n",
      "Average Recall     (AR) @[ IoU=0.50:0.95 | area=medium | maxDets=1000 ] = 0.089\n",
      "Average Recall     (AR) @[ IoU=0.50:0.95 | area= large | maxDets=1000 ] = 0.189\n",
      "2021-05-14 13:56:09,487 - mmdet - INFO - Epoch [2][50/655]\tlr: 2.000e-02, eta: 2:42:54, time: 0.479, data_time: 0.065, memory: 3554, loss_rpn_cls: 0.1072, loss_rpn_bbox: 0.0609, loss_cls: 0.4191, acc: 89.1836, loss_bbox: 0.3477, loss_mask: 0.4139, loss: 1.3489, grad_norm: 2.4028\n",
      "2021-05-14 13:56:31,199 - mmdet - INFO - Epoch [2][100/655]\tlr: 2.000e-02, eta: 2:42:43, time: 0.434, data_time: 0.021, memory: 3554, loss_rpn_cls: 0.1219, loss_rpn_bbox: 0.0745, loss_cls: 0.4410, acc: 88.3193, loss_bbox: 0.3733, loss_mask: 0.4256, loss: 1.4363, grad_norm: 2.7011\n",
      "2021-05-14 13:56:53,330 - mmdet - INFO - Epoch [2][150/655]\tlr: 2.000e-02, eta: 2:42:42, time: 0.443, data_time: 0.020, memory: 3600, loss_rpn_cls: 0.1307, loss_rpn_bbox: 0.0765, loss_cls: 0.4530, acc: 88.0645, loss_bbox: 0.3892, loss_mask: 0.4090, loss: 1.4583, grad_norm: 2.6976\n",
      "2021-05-14 13:57:14,669 - mmdet - INFO - Epoch [2][200/655]\tlr: 2.000e-02, eta: 2:42:18, time: 0.427, data_time: 0.020, memory: 3600, loss_rpn_cls: 0.1337, loss_rpn_bbox: 0.0805, loss_cls: 0.4299, acc: 88.5449, loss_bbox: 0.3554, loss_mask: 0.4016, loss: 1.4011, grad_norm: 2.4869\n",
      "2021-05-14 13:57:36,525 - mmdet - INFO - Epoch [2][250/655]\tlr: 2.000e-02, eta: 2:42:08, time: 0.437, data_time: 0.020, memory: 3600, loss_rpn_cls: 0.1027, loss_rpn_bbox: 0.0681, loss_cls: 0.4499, acc: 88.0889, loss_bbox: 0.3749, loss_mask: 0.3861, loss: 1.3817, grad_norm: 2.5044\n",
      "2021-05-14 13:57:58,342 - mmdet - INFO - Epoch [2][300/655]\tlr: 2.000e-02, eta: 2:41:55, time: 0.436, data_time: 0.020, memory: 3639, loss_rpn_cls: 0.1158, loss_rpn_bbox: 0.0720, loss_cls: 0.4150, acc: 88.9102, loss_bbox: 0.3508, loss_mask: 0.3925, loss: 1.3462, grad_norm: 2.4728\n",
      "2021-05-14 13:58:20,051 - mmdet - INFO - Epoch [2][350/655]\tlr: 2.000e-02, eta: 2:41:39, time: 0.434, data_time: 0.020, memory: 3639, loss_rpn_cls: 0.1020, loss_rpn_bbox: 0.0668, loss_cls: 0.4132, acc: 89.0215, loss_bbox: 0.3544, loss_mask: 0.3823, loss: 1.3186, grad_norm: 2.3159\n",
      "2021-05-14 13:58:41,738 - mmdet - INFO - Epoch [2][400/655]\tlr: 2.000e-02, eta: 2:41:22, time: 0.434, data_time: 0.019, memory: 3639, loss_rpn_cls: 0.1030, loss_rpn_bbox: 0.0681, loss_cls: 0.4147, acc: 88.7754, loss_bbox: 0.3540, loss_mask: 0.3740, loss: 1.3139, grad_norm: 2.5485\n",
      "2021-05-14 13:59:04,047 - mmdet - INFO - Epoch [2][450/655]\tlr: 2.000e-02, eta: 2:41:17, time: 0.446, data_time: 0.022, memory: 3639, loss_rpn_cls: 0.1062, loss_rpn_bbox: 0.0620, loss_cls: 0.4456, acc: 87.9385, loss_bbox: 0.3906, loss_mask: 0.3753, loss: 1.3798, grad_norm: 2.4505\n",
      "2021-05-14 13:59:26,602 - mmdet - INFO - Epoch [2][500/655]\tlr: 2.000e-02, eta: 2:41:15, time: 0.451, data_time: 0.024, memory: 3639, loss_rpn_cls: 0.1056, loss_rpn_bbox: 0.0722, loss_cls: 0.4340, acc: 87.9668, loss_bbox: 0.3810, loss_mask: 0.3795, loss: 1.3723, grad_norm: 2.3013\n",
      "2021-05-14 13:59:48,529 - mmdet - INFO - Epoch [2][550/655]\tlr: 2.000e-02, eta: 2:41:00, time: 0.439, data_time: 0.021, memory: 3684, loss_rpn_cls: 0.1003, loss_rpn_bbox: 0.0610, loss_cls: 0.3947, acc: 89.3701, loss_bbox: 0.3461, loss_mask: 0.3688, loss: 1.2709, grad_norm: 2.4050\n",
      "2021-05-14 14:00:10,703 - mmdet - INFO - Epoch [2][600/655]\tlr: 2.000e-02, eta: 2:40:49, time: 0.443, data_time: 0.022, memory: 3684, loss_rpn_cls: 0.1049, loss_rpn_bbox: 0.0700, loss_cls: 0.4171, acc: 88.5430, loss_bbox: 0.3708, loss_mask: 0.3696, loss: 1.3324, grad_norm: 2.5532\n",
      "2021-05-14 14:00:32,923 - mmdet - INFO - Epoch [2][650/655]\tlr: 2.000e-02, eta: 2:40:38, time: 0.444, data_time: 0.022, memory: 3684, loss_rpn_cls: 0.0990, loss_rpn_bbox: 0.0664, loss_cls: 0.4034, acc: 88.7471, loss_bbox: 0.3668, loss_mask: 0.3860, loss: 1.3216, grad_norm: 2.3680\n",
      "2021-05-14 14:00:35,200 - mmdet - INFO - Saving checkpoint at 2 epochs\n",
      "[>>>>>>>>>>>>>>>>>>>>>>>>>>>>>>] 655/655, 8.5 task/s, elapsed: 77s, ETA:     0s2021-05-14 14:01:55,239 - mmdet - INFO - Evaluating bbox...\n",
      "Loading and preparing results...\n",
      "DONE (t=0.85s)\n",
      "creating index...\n",
      "index created!\n",
      "Running per image evaluation...\n",
      "Evaluate annotation type *bbox*\n",
      "DONE (t=5.94s).\n",
      "Accumulating evaluation results...\n",
      "2021-05-14 14:02:03,381 - mmdet - INFO - Epoch(val) [2][655]\tbbox_mAP: 0.0630, bbox_mAP_50: 0.1270, bbox_mAP_75: 0.0600, bbox_mAP_s: 0.0140, bbox_mAP_m: 0.0640, bbox_mAP_l: 0.1150, bbox_mAP_copypaste: 0.063 0.127 0.060 0.014 0.064 0.115\n",
      "DONE (t=1.21s).\n",
      "Average Precision  (AP) @[ IoU=0.50:0.95 | area=   all | maxDets=100 ] = 0.063\n",
      "Average Precision  (AP) @[ IoU=0.50      | area=   all | maxDets=1000 ] = 0.127\n",
      "Average Precision  (AP) @[ IoU=0.75      | area=   all | maxDets=1000 ] = 0.060\n",
      "Average Precision  (AP) @[ IoU=0.50:0.95 | area= small | maxDets=1000 ] = 0.014\n",
      "Average Precision  (AP) @[ IoU=0.50:0.95 | area=medium | maxDets=1000 ] = 0.064\n",
      "Average Precision  (AP) @[ IoU=0.50:0.95 | area= large | maxDets=1000 ] = 0.115\n",
      "Average Recall     (AR) @[ IoU=0.50:0.95 | area=   all | maxDets=100 ] = 0.173\n",
      "Average Recall     (AR) @[ IoU=0.50:0.95 | area=   all | maxDets=300 ] = 0.173\n",
      "Average Recall     (AR) @[ IoU=0.50:0.95 | area=   all | maxDets=1000 ] = 0.173\n",
      "Average Recall     (AR) @[ IoU=0.50:0.95 | area= small | maxDets=1000 ] = 0.064\n",
      "Average Recall     (AR) @[ IoU=0.50:0.95 | area=medium | maxDets=1000 ] = 0.166\n",
      "Average Recall     (AR) @[ IoU=0.50:0.95 | area= large | maxDets=1000 ] = 0.305\n",
      "2021-05-14 14:02:28,001 - mmdet - INFO - Epoch [3][50/655]\tlr: 2.000e-02, eta: 2:40:27, time: 0.492, data_time: 0.066, memory: 3684, loss_rpn_cls: 0.0942, loss_rpn_bbox: 0.0669, loss_cls: 0.4223, acc: 88.1084, loss_bbox: 0.3619, loss_mask: 0.3776, loss: 1.3229, grad_norm: 2.3996\n",
      "2021-05-14 14:02:49,986 - mmdet - INFO - Epoch [3][100/655]\tlr: 2.000e-02, eta: 2:40:11, time: 0.440, data_time: 0.023, memory: 3684, loss_rpn_cls: 0.1019, loss_rpn_bbox: 0.0653, loss_cls: 0.4138, acc: 88.5068, loss_bbox: 0.3507, loss_mask: 0.3577, loss: 1.2892, grad_norm: 2.5713\n",
      "2021-05-14 14:03:12,417 - mmdet - INFO - Epoch [3][150/655]\tlr: 2.000e-02, eta: 2:40:00, time: 0.449, data_time: 0.021, memory: 3684, loss_rpn_cls: 0.0933, loss_rpn_bbox: 0.0646, loss_cls: 0.4222, acc: 88.3408, loss_bbox: 0.3624, loss_mask: 0.3571, loss: 1.2995, grad_norm: 2.4709\n",
      "2021-05-14 14:03:34,651 - mmdet - INFO - Epoch [3][200/655]\tlr: 2.000e-02, eta: 2:39:46, time: 0.445, data_time: 0.021, memory: 3684, loss_rpn_cls: 0.0890, loss_rpn_bbox: 0.0599, loss_cls: 0.3950, acc: 89.0303, loss_bbox: 0.3355, loss_mask: 0.3504, loss: 1.2298, grad_norm: 2.3903\n",
      "2021-05-14 14:03:56,268 - mmdet - INFO - Epoch [3][250/655]\tlr: 2.000e-02, eta: 2:39:23, time: 0.432, data_time: 0.019, memory: 3684, loss_rpn_cls: 0.0900, loss_rpn_bbox: 0.0646, loss_cls: 0.3860, acc: 89.4785, loss_bbox: 0.3194, loss_mask: 0.3508, loss: 1.2107, grad_norm: 2.3103\n",
      "2021-05-14 14:04:18,466 - mmdet - INFO - Epoch [3][300/655]\tlr: 2.000e-02, eta: 2:39:08, time: 0.444, data_time: 0.021, memory: 3684, loss_rpn_cls: 0.0835, loss_rpn_bbox: 0.0571, loss_cls: 0.4074, acc: 88.8105, loss_bbox: 0.3508, loss_mask: 0.3476, loss: 1.2464, grad_norm: 2.4193\n",
      "2021-05-14 14:04:40,449 - mmdet - INFO - Epoch [3][350/655]\tlr: 2.000e-02, eta: 2:38:50, time: 0.440, data_time: 0.023, memory: 3684, loss_rpn_cls: 0.0845, loss_rpn_bbox: 0.0617, loss_cls: 0.4014, acc: 88.9092, loss_bbox: 0.3401, loss_mask: 0.3446, loss: 1.2323, grad_norm: 2.3065\n",
      "2021-05-14 14:05:02,917 - mmdet - INFO - Epoch [3][400/655]\tlr: 2.000e-02, eta: 2:38:37, time: 0.449, data_time: 0.023, memory: 3684, loss_rpn_cls: 0.0999, loss_rpn_bbox: 0.0679, loss_cls: 0.4200, acc: 88.3145, loss_bbox: 0.3626, loss_mask: 0.3484, loss: 1.2989, grad_norm: 2.4779\n",
      "2021-05-14 14:05:25,045 - mmdet - INFO - Epoch [3][450/655]\tlr: 2.000e-02, eta: 2:38:20, time: 0.443, data_time: 0.022, memory: 3684, loss_rpn_cls: 0.1039, loss_rpn_bbox: 0.0727, loss_cls: 0.4178, acc: 88.4072, loss_bbox: 0.3552, loss_mask: 0.3680, loss: 1.3176, grad_norm: 2.5591\n",
      "2021-05-14 14:05:47,003 - mmdet - INFO - Epoch [3][500/655]\tlr: 2.000e-02, eta: 2:38:01, time: 0.439, data_time: 0.021, memory: 3684, loss_rpn_cls: 0.0970, loss_rpn_bbox: 0.0679, loss_cls: 0.3890, acc: 89.1006, loss_bbox: 0.3455, loss_mask: 0.3643, loss: 1.2637, grad_norm: 2.4356\n",
      "2021-05-14 14:06:08,962 - mmdet - INFO - Epoch [3][550/655]\tlr: 2.000e-02, eta: 2:37:41, time: 0.439, data_time: 0.021, memory: 3684, loss_rpn_cls: 0.0956, loss_rpn_bbox: 0.0641, loss_cls: 0.3923, acc: 89.2725, loss_bbox: 0.3401, loss_mask: 0.3455, loss: 1.2376, grad_norm: 2.3322\n",
      "2021-05-14 14:06:30,998 - mmdet - INFO - Epoch [3][600/655]\tlr: 2.000e-02, eta: 2:37:22, time: 0.441, data_time: 0.021, memory: 3684, loss_rpn_cls: 0.1087, loss_rpn_bbox: 0.0710, loss_cls: 0.4032, acc: 88.6855, loss_bbox: 0.3529, loss_mask: 0.3373, loss: 1.2730, grad_norm: 2.5467\n",
      "2021-05-14 14:06:52,464 - mmdet - INFO - Epoch [3][650/655]\tlr: 2.000e-02, eta: 2:36:57, time: 0.429, data_time: 0.020, memory: 3684, loss_rpn_cls: 0.0776, loss_rpn_bbox: 0.0506, loss_cls: 0.3720, acc: 89.6318, loss_bbox: 0.3251, loss_mask: 0.3561, loss: 1.1814, grad_norm: 2.4249\n",
      "2021-05-14 14:06:54,648 - mmdet - INFO - Saving checkpoint at 3 epochs\n",
      "[>>>>>>>>>>>>>>>>>>>>>>>>>>>>>>] 655/655, 9.5 task/s, elapsed: 69s, ETA:     0s"
     ]
    },
    {
     "output_type": "error",
     "ename": "IndexError",
     "evalue": "list index out of range",
     "traceback": [
      "\u001b[0;31m---------------------------------------------------------------------------\u001b[0m",
      "\u001b[0;31mIndexError\u001b[0m                                Traceback (most recent call last)",
      "\u001b[0;32m<ipython-input-9-59b5768e9e45>\u001b[0m in \u001b[0;36m<module>\u001b[0;34m\u001b[0m\n\u001b[0;32m----> 1\u001b[0;31m \u001b[0mtrain_detector\u001b[0m\u001b[0;34m(\u001b[0m\u001b[0mmodel\u001b[0m\u001b[0;34m,\u001b[0m \u001b[0mdatasets\u001b[0m\u001b[0;34m[\u001b[0m\u001b[0;36m0\u001b[0m\u001b[0;34m]\u001b[0m\u001b[0;34m,\u001b[0m \u001b[0mcfg\u001b[0m\u001b[0;34m,\u001b[0m \u001b[0mdistributed\u001b[0m\u001b[0;34m=\u001b[0m\u001b[0;32mFalse\u001b[0m\u001b[0;34m,\u001b[0m \u001b[0mvalidate\u001b[0m\u001b[0;34m=\u001b[0m\u001b[0;32mTrue\u001b[0m\u001b[0;34m)\u001b[0m\u001b[0;34m\u001b[0m\u001b[0;34m\u001b[0m\u001b[0m\n\u001b[0m",
      "\u001b[0;32m~/code/mmdetection_trash/mmdet/apis/train.py\u001b[0m in \u001b[0;36mtrain_detector\u001b[0;34m(model, dataset, cfg, distributed, validate, timestamp, meta)\u001b[0m\n\u001b[1;32m    168\u001b[0m     \u001b[0;32melif\u001b[0m \u001b[0mcfg\u001b[0m\u001b[0;34m.\u001b[0m\u001b[0mload_from\u001b[0m\u001b[0;34m:\u001b[0m\u001b[0;34m\u001b[0m\u001b[0;34m\u001b[0m\u001b[0m\n\u001b[1;32m    169\u001b[0m         \u001b[0mrunner\u001b[0m\u001b[0;34m.\u001b[0m\u001b[0mload_checkpoint\u001b[0m\u001b[0;34m(\u001b[0m\u001b[0mcfg\u001b[0m\u001b[0;34m.\u001b[0m\u001b[0mload_from\u001b[0m\u001b[0;34m)\u001b[0m\u001b[0;34m\u001b[0m\u001b[0;34m\u001b[0m\u001b[0m\n\u001b[0;32m--> 170\u001b[0;31m     \u001b[0mrunner\u001b[0m\u001b[0;34m.\u001b[0m\u001b[0mrun\u001b[0m\u001b[0;34m(\u001b[0m\u001b[0mdata_loaders\u001b[0m\u001b[0;34m,\u001b[0m \u001b[0mcfg\u001b[0m\u001b[0;34m.\u001b[0m\u001b[0mworkflow\u001b[0m\u001b[0;34m)\u001b[0m\u001b[0;34m\u001b[0m\u001b[0;34m\u001b[0m\u001b[0m\n\u001b[0m",
      "\u001b[0;32m/opt/conda/lib/python3.7/site-packages/mmcv/runner/epoch_based_runner.py\u001b[0m in \u001b[0;36mrun\u001b[0;34m(self, data_loaders, workflow, max_epochs, **kwargs)\u001b[0m\n\u001b[1;32m    123\u001b[0m                     \u001b[0;32mif\u001b[0m \u001b[0mmode\u001b[0m \u001b[0;34m==\u001b[0m \u001b[0;34m'train'\u001b[0m \u001b[0;32mand\u001b[0m \u001b[0mself\u001b[0m\u001b[0;34m.\u001b[0m\u001b[0mepoch\u001b[0m \u001b[0;34m>=\u001b[0m \u001b[0mself\u001b[0m\u001b[0;34m.\u001b[0m\u001b[0m_max_epochs\u001b[0m\u001b[0;34m:\u001b[0m\u001b[0;34m\u001b[0m\u001b[0;34m\u001b[0m\u001b[0m\n\u001b[1;32m    124\u001b[0m                         \u001b[0;32mbreak\u001b[0m\u001b[0;34m\u001b[0m\u001b[0;34m\u001b[0m\u001b[0m\n\u001b[0;32m--> 125\u001b[0;31m                     \u001b[0mepoch_runner\u001b[0m\u001b[0;34m(\u001b[0m\u001b[0mdata_loaders\u001b[0m\u001b[0;34m[\u001b[0m\u001b[0mi\u001b[0m\u001b[0;34m]\u001b[0m\u001b[0;34m,\u001b[0m \u001b[0;34m**\u001b[0m\u001b[0mkwargs\u001b[0m\u001b[0;34m)\u001b[0m\u001b[0;34m\u001b[0m\u001b[0;34m\u001b[0m\u001b[0m\n\u001b[0m\u001b[1;32m    126\u001b[0m \u001b[0;34m\u001b[0m\u001b[0m\n\u001b[1;32m    127\u001b[0m         \u001b[0mtime\u001b[0m\u001b[0;34m.\u001b[0m\u001b[0msleep\u001b[0m\u001b[0;34m(\u001b[0m\u001b[0;36m1\u001b[0m\u001b[0;34m)\u001b[0m  \u001b[0;31m# wait for some hooks like loggers to finish\u001b[0m\u001b[0;34m\u001b[0m\u001b[0;34m\u001b[0m\u001b[0m\n",
      "\u001b[0;32m/opt/conda/lib/python3.7/site-packages/mmcv/runner/epoch_based_runner.py\u001b[0m in \u001b[0;36mtrain\u001b[0;34m(self, data_loader, **kwargs)\u001b[0m\n\u001b[1;32m     52\u001b[0m             \u001b[0mself\u001b[0m\u001b[0;34m.\u001b[0m\u001b[0m_iter\u001b[0m \u001b[0;34m+=\u001b[0m \u001b[0;36m1\u001b[0m\u001b[0;34m\u001b[0m\u001b[0;34m\u001b[0m\u001b[0m\n\u001b[1;32m     53\u001b[0m \u001b[0;34m\u001b[0m\u001b[0m\n\u001b[0;32m---> 54\u001b[0;31m         \u001b[0mself\u001b[0m\u001b[0;34m.\u001b[0m\u001b[0mcall_hook\u001b[0m\u001b[0;34m(\u001b[0m\u001b[0;34m'after_train_epoch'\u001b[0m\u001b[0;34m)\u001b[0m\u001b[0;34m\u001b[0m\u001b[0;34m\u001b[0m\u001b[0m\n\u001b[0m\u001b[1;32m     55\u001b[0m         \u001b[0mself\u001b[0m\u001b[0;34m.\u001b[0m\u001b[0m_epoch\u001b[0m \u001b[0;34m+=\u001b[0m \u001b[0;36m1\u001b[0m\u001b[0;34m\u001b[0m\u001b[0;34m\u001b[0m\u001b[0m\n\u001b[1;32m     56\u001b[0m \u001b[0;34m\u001b[0m\u001b[0m\n",
      "\u001b[0;32m/opt/conda/lib/python3.7/site-packages/mmcv/runner/base_runner.py\u001b[0m in \u001b[0;36mcall_hook\u001b[0;34m(self, fn_name)\u001b[0m\n\u001b[1;32m    305\u001b[0m         \"\"\"\n\u001b[1;32m    306\u001b[0m         \u001b[0;32mfor\u001b[0m \u001b[0mhook\u001b[0m \u001b[0;32min\u001b[0m \u001b[0mself\u001b[0m\u001b[0;34m.\u001b[0m\u001b[0m_hooks\u001b[0m\u001b[0;34m:\u001b[0m\u001b[0;34m\u001b[0m\u001b[0;34m\u001b[0m\u001b[0m\n\u001b[0;32m--> 307\u001b[0;31m             \u001b[0mgetattr\u001b[0m\u001b[0;34m(\u001b[0m\u001b[0mhook\u001b[0m\u001b[0;34m,\u001b[0m \u001b[0mfn_name\u001b[0m\u001b[0;34m)\u001b[0m\u001b[0;34m(\u001b[0m\u001b[0mself\u001b[0m\u001b[0;34m)\u001b[0m\u001b[0;34m\u001b[0m\u001b[0;34m\u001b[0m\u001b[0m\n\u001b[0m\u001b[1;32m    308\u001b[0m \u001b[0;34m\u001b[0m\u001b[0m\n\u001b[1;32m    309\u001b[0m     def load_checkpoint(self,\n",
      "\u001b[0;32m~/code/mmdetection_trash/mmdet/core/evaluation/eval_hooks.py\u001b[0m in \u001b[0;36mafter_train_epoch\u001b[0;34m(self, runner)\u001b[0m\n\u001b[1;32m    145\u001b[0m         \u001b[0;32mfrom\u001b[0m \u001b[0mmmdet\u001b[0m\u001b[0;34m.\u001b[0m\u001b[0mapis\u001b[0m \u001b[0;32mimport\u001b[0m \u001b[0msingle_gpu_test\u001b[0m\u001b[0;34m\u001b[0m\u001b[0;34m\u001b[0m\u001b[0m\n\u001b[1;32m    146\u001b[0m         \u001b[0mresults\u001b[0m \u001b[0;34m=\u001b[0m \u001b[0msingle_gpu_test\u001b[0m\u001b[0;34m(\u001b[0m\u001b[0mrunner\u001b[0m\u001b[0;34m.\u001b[0m\u001b[0mmodel\u001b[0m\u001b[0;34m,\u001b[0m \u001b[0mself\u001b[0m\u001b[0;34m.\u001b[0m\u001b[0mdataloader\u001b[0m\u001b[0;34m,\u001b[0m \u001b[0mshow\u001b[0m\u001b[0;34m=\u001b[0m\u001b[0;32mFalse\u001b[0m\u001b[0;34m)\u001b[0m\u001b[0;34m\u001b[0m\u001b[0;34m\u001b[0m\u001b[0m\n\u001b[0;32m--> 147\u001b[0;31m         \u001b[0mkey_score\u001b[0m \u001b[0;34m=\u001b[0m \u001b[0mself\u001b[0m\u001b[0;34m.\u001b[0m\u001b[0mevaluate\u001b[0m\u001b[0;34m(\u001b[0m\u001b[0mrunner\u001b[0m\u001b[0;34m,\u001b[0m \u001b[0mresults\u001b[0m\u001b[0;34m)\u001b[0m\u001b[0;34m\u001b[0m\u001b[0;34m\u001b[0m\u001b[0m\n\u001b[0m\u001b[1;32m    148\u001b[0m         \u001b[0;32mif\u001b[0m \u001b[0mself\u001b[0m\u001b[0;34m.\u001b[0m\u001b[0msave_best\u001b[0m\u001b[0;34m:\u001b[0m\u001b[0;34m\u001b[0m\u001b[0;34m\u001b[0m\u001b[0m\n\u001b[1;32m    149\u001b[0m             \u001b[0mself\u001b[0m\u001b[0;34m.\u001b[0m\u001b[0msave_best_checkpoint\u001b[0m\u001b[0;34m(\u001b[0m\u001b[0mrunner\u001b[0m\u001b[0;34m,\u001b[0m \u001b[0mkey_score\u001b[0m\u001b[0;34m)\u001b[0m\u001b[0;34m\u001b[0m\u001b[0;34m\u001b[0m\u001b[0m\n",
      "\u001b[0;32m~/code/mmdetection_trash/mmdet/core/evaluation/eval_hooks.py\u001b[0m in \u001b[0;36mevaluate\u001b[0;34m(self, runner, results)\u001b[0m\n\u001b[1;32m    175\u001b[0m     \u001b[0;32mdef\u001b[0m \u001b[0mevaluate\u001b[0m\u001b[0;34m(\u001b[0m\u001b[0mself\u001b[0m\u001b[0;34m,\u001b[0m \u001b[0mrunner\u001b[0m\u001b[0;34m,\u001b[0m \u001b[0mresults\u001b[0m\u001b[0;34m)\u001b[0m\u001b[0;34m:\u001b[0m\u001b[0;34m\u001b[0m\u001b[0;34m\u001b[0m\u001b[0m\n\u001b[1;32m    176\u001b[0m         eval_res = self.dataloader.dataset.evaluate(\n\u001b[0;32m--> 177\u001b[0;31m             results, logger=runner.logger, **self.eval_kwargs)\n\u001b[0m\u001b[1;32m    178\u001b[0m         \u001b[0;32mfor\u001b[0m \u001b[0mname\u001b[0m\u001b[0;34m,\u001b[0m \u001b[0mval\u001b[0m \u001b[0;32min\u001b[0m \u001b[0meval_res\u001b[0m\u001b[0;34m.\u001b[0m\u001b[0mitems\u001b[0m\u001b[0;34m(\u001b[0m\u001b[0;34m)\u001b[0m\u001b[0;34m:\u001b[0m\u001b[0;34m\u001b[0m\u001b[0;34m\u001b[0m\u001b[0m\n\u001b[1;32m    179\u001b[0m             \u001b[0mrunner\u001b[0m\u001b[0;34m.\u001b[0m\u001b[0mlog_buffer\u001b[0m\u001b[0;34m.\u001b[0m\u001b[0moutput\u001b[0m\u001b[0;34m[\u001b[0m\u001b[0mname\u001b[0m\u001b[0;34m]\u001b[0m \u001b[0;34m=\u001b[0m \u001b[0mval\u001b[0m\u001b[0;34m\u001b[0m\u001b[0;34m\u001b[0m\u001b[0m\n",
      "\u001b[0;32m~/code/mmdetection_trash/mmdet/datasets/coco.py\u001b[0m in \u001b[0;36mevaluate\u001b[0;34m(self, results, metric, logger, jsonfile_prefix, classwise, proposal_nums, iou_thrs, metric_items)\u001b[0m\n\u001b[1;32m    415\u001b[0m                 \u001b[0mmetric_items\u001b[0m \u001b[0;34m=\u001b[0m \u001b[0;34m[\u001b[0m\u001b[0mmetric_items\u001b[0m\u001b[0;34m]\u001b[0m\u001b[0;34m\u001b[0m\u001b[0;34m\u001b[0m\u001b[0m\n\u001b[1;32m    416\u001b[0m \u001b[0;34m\u001b[0m\u001b[0m\n\u001b[0;32m--> 417\u001b[0;31m         \u001b[0mresult_files\u001b[0m\u001b[0;34m,\u001b[0m \u001b[0mtmp_dir\u001b[0m \u001b[0;34m=\u001b[0m \u001b[0mself\u001b[0m\u001b[0;34m.\u001b[0m\u001b[0mformat_results\u001b[0m\u001b[0;34m(\u001b[0m\u001b[0mresults\u001b[0m\u001b[0;34m,\u001b[0m \u001b[0mjsonfile_prefix\u001b[0m\u001b[0;34m)\u001b[0m\u001b[0;34m\u001b[0m\u001b[0;34m\u001b[0m\u001b[0m\n\u001b[0m\u001b[1;32m    418\u001b[0m \u001b[0;34m\u001b[0m\u001b[0m\n\u001b[1;32m    419\u001b[0m         \u001b[0meval_results\u001b[0m \u001b[0;34m=\u001b[0m \u001b[0mOrderedDict\u001b[0m\u001b[0;34m(\u001b[0m\u001b[0;34m)\u001b[0m\u001b[0;34m\u001b[0m\u001b[0;34m\u001b[0m\u001b[0m\n",
      "\u001b[0;32m~/code/mmdetection_trash/mmdet/datasets/coco.py\u001b[0m in \u001b[0;36mformat_results\u001b[0;34m(self, results, jsonfile_prefix, **kwargs)\u001b[0m\n\u001b[1;32m    360\u001b[0m         \u001b[0;32melse\u001b[0m\u001b[0;34m:\u001b[0m\u001b[0;34m\u001b[0m\u001b[0;34m\u001b[0m\u001b[0m\n\u001b[1;32m    361\u001b[0m             \u001b[0mtmp_dir\u001b[0m \u001b[0;34m=\u001b[0m \u001b[0;32mNone\u001b[0m\u001b[0;34m\u001b[0m\u001b[0;34m\u001b[0m\u001b[0m\n\u001b[0;32m--> 362\u001b[0;31m         \u001b[0mresult_files\u001b[0m \u001b[0;34m=\u001b[0m \u001b[0mself\u001b[0m\u001b[0;34m.\u001b[0m\u001b[0mresults2json\u001b[0m\u001b[0;34m(\u001b[0m\u001b[0mresults\u001b[0m\u001b[0;34m,\u001b[0m \u001b[0mjsonfile_prefix\u001b[0m\u001b[0;34m)\u001b[0m\u001b[0;34m\u001b[0m\u001b[0;34m\u001b[0m\u001b[0m\n\u001b[0m\u001b[1;32m    363\u001b[0m         \u001b[0;32mreturn\u001b[0m \u001b[0mresult_files\u001b[0m\u001b[0;34m,\u001b[0m \u001b[0mtmp_dir\u001b[0m\u001b[0;34m\u001b[0m\u001b[0;34m\u001b[0m\u001b[0m\n\u001b[1;32m    364\u001b[0m \u001b[0;34m\u001b[0m\u001b[0m\n",
      "\u001b[0;32m~/code/mmdetection_trash/mmdet/datasets/coco.py\u001b[0m in \u001b[0;36mresults2json\u001b[0;34m(self, results, outfile_prefix)\u001b[0m\n\u001b[1;32m    297\u001b[0m             \u001b[0mmmcv\u001b[0m\u001b[0;34m.\u001b[0m\u001b[0mdump\u001b[0m\u001b[0;34m(\u001b[0m\u001b[0mjson_results\u001b[0m\u001b[0;34m,\u001b[0m \u001b[0mresult_files\u001b[0m\u001b[0;34m[\u001b[0m\u001b[0;34m'bbox'\u001b[0m\u001b[0;34m]\u001b[0m\u001b[0;34m)\u001b[0m\u001b[0;34m\u001b[0m\u001b[0;34m\u001b[0m\u001b[0m\n\u001b[1;32m    298\u001b[0m         \u001b[0;32melif\u001b[0m \u001b[0misinstance\u001b[0m\u001b[0;34m(\u001b[0m\u001b[0mresults\u001b[0m\u001b[0;34m[\u001b[0m\u001b[0;36m0\u001b[0m\u001b[0;34m]\u001b[0m\u001b[0;34m,\u001b[0m \u001b[0mtuple\u001b[0m\u001b[0;34m)\u001b[0m\u001b[0;34m:\u001b[0m\u001b[0;34m\u001b[0m\u001b[0;34m\u001b[0m\u001b[0m\n\u001b[0;32m--> 299\u001b[0;31m             \u001b[0mjson_results\u001b[0m \u001b[0;34m=\u001b[0m \u001b[0mself\u001b[0m\u001b[0;34m.\u001b[0m\u001b[0m_segm2json\u001b[0m\u001b[0;34m(\u001b[0m\u001b[0mresults\u001b[0m\u001b[0;34m)\u001b[0m\u001b[0;34m\u001b[0m\u001b[0;34m\u001b[0m\u001b[0m\n\u001b[0m\u001b[1;32m    300\u001b[0m             \u001b[0mresult_files\u001b[0m\u001b[0;34m[\u001b[0m\u001b[0;34m'bbox'\u001b[0m\u001b[0;34m]\u001b[0m \u001b[0;34m=\u001b[0m \u001b[0;34mf'{outfile_prefix}.bbox.json'\u001b[0m\u001b[0;34m\u001b[0m\u001b[0;34m\u001b[0m\u001b[0m\n\u001b[1;32m    301\u001b[0m             \u001b[0mresult_files\u001b[0m\u001b[0;34m[\u001b[0m\u001b[0;34m'proposal'\u001b[0m\u001b[0;34m]\u001b[0m \u001b[0;34m=\u001b[0m \u001b[0;34mf'{outfile_prefix}.bbox.json'\u001b[0m\u001b[0;34m\u001b[0m\u001b[0;34m\u001b[0m\u001b[0m\n",
      "\u001b[0;32m~/code/mmdetection_trash/mmdet/datasets/coco.py\u001b[0m in \u001b[0;36m_segm2json\u001b[0;34m(self, results)\u001b[0m\n\u001b[1;32m    265\u001b[0m                     \u001b[0mdata\u001b[0m\u001b[0;34m[\u001b[0m\u001b[0;34m'score'\u001b[0m\u001b[0;34m]\u001b[0m \u001b[0;34m=\u001b[0m \u001b[0mfloat\u001b[0m\u001b[0;34m(\u001b[0m\u001b[0mmask_score\u001b[0m\u001b[0;34m[\u001b[0m\u001b[0mi\u001b[0m\u001b[0;34m]\u001b[0m\u001b[0;34m)\u001b[0m\u001b[0;34m\u001b[0m\u001b[0;34m\u001b[0m\u001b[0m\n\u001b[1;32m    266\u001b[0m                     \u001b[0mdata\u001b[0m\u001b[0;34m[\u001b[0m\u001b[0;34m'category_id'\u001b[0m\u001b[0;34m]\u001b[0m \u001b[0;34m=\u001b[0m \u001b[0mself\u001b[0m\u001b[0;34m.\u001b[0m\u001b[0mcat_ids\u001b[0m\u001b[0;34m[\u001b[0m\u001b[0mlabel\u001b[0m\u001b[0;34m]\u001b[0m\u001b[0;34m\u001b[0m\u001b[0;34m\u001b[0m\u001b[0m\n\u001b[0;32m--> 267\u001b[0;31m                     \u001b[0;32mif\u001b[0m \u001b[0misinstance\u001b[0m\u001b[0;34m(\u001b[0m\u001b[0msegms\u001b[0m\u001b[0;34m[\u001b[0m\u001b[0mi\u001b[0m\u001b[0;34m]\u001b[0m\u001b[0;34m[\u001b[0m\u001b[0;34m'counts'\u001b[0m\u001b[0;34m]\u001b[0m\u001b[0;34m,\u001b[0m \u001b[0mbytes\u001b[0m\u001b[0;34m)\u001b[0m\u001b[0;34m:\u001b[0m\u001b[0;34m\u001b[0m\u001b[0;34m\u001b[0m\u001b[0m\n\u001b[0m\u001b[1;32m    268\u001b[0m                         \u001b[0msegms\u001b[0m\u001b[0;34m[\u001b[0m\u001b[0mi\u001b[0m\u001b[0;34m]\u001b[0m\u001b[0;34m[\u001b[0m\u001b[0;34m'counts'\u001b[0m\u001b[0;34m]\u001b[0m \u001b[0;34m=\u001b[0m \u001b[0msegms\u001b[0m\u001b[0;34m[\u001b[0m\u001b[0mi\u001b[0m\u001b[0;34m]\u001b[0m\u001b[0;34m[\u001b[0m\u001b[0;34m'counts'\u001b[0m\u001b[0;34m]\u001b[0m\u001b[0;34m.\u001b[0m\u001b[0mdecode\u001b[0m\u001b[0;34m(\u001b[0m\u001b[0;34m)\u001b[0m\u001b[0;34m\u001b[0m\u001b[0;34m\u001b[0m\u001b[0m\n\u001b[1;32m    269\u001b[0m                     \u001b[0mdata\u001b[0m\u001b[0;34m[\u001b[0m\u001b[0;34m'segmentation'\u001b[0m\u001b[0;34m]\u001b[0m \u001b[0;34m=\u001b[0m \u001b[0msegms\u001b[0m\u001b[0;34m[\u001b[0m\u001b[0mi\u001b[0m\u001b[0;34m]\u001b[0m\u001b[0;34m\u001b[0m\u001b[0;34m\u001b[0m\u001b[0m\n",
      "\u001b[0;31mIndexError\u001b[0m: list index out of range"
     ]
    }
   ],
   "source": [
    "train_detector(model, datasets[0], cfg, distributed=False, validate=True)"
   ]
  },
  {
   "cell_type": "code",
   "execution_count": null,
   "metadata": {},
   "outputs": [],
   "source": []
  }
 ],
 "metadata": {
  "kernelspec": {
   "name": "python377jvsc74a57bd098b0a9b7b4eaaa670588a142fd0a9b87eaafe866f1db4228be72b4211d12040f",
   "display_name": "Python 3.7.7 64-bit ('base': conda)"
  },
  "language_info": {
   "codemirror_mode": {
    "name": "ipython",
    "version": 3
   },
   "file_extension": ".py",
   "mimetype": "text/x-python",
   "name": "python",
   "nbconvert_exporter": "python",
   "pygments_lexer": "ipython3",
   "version": "3.7.7"
  },
  "pycharm": {
   "stem_cell": {
    "cell_type": "raw",
    "source": [],
    "metadata": {
     "collapsed": false
    }
   }
  }
 },
 "nbformat": 4,
 "nbformat_minor": 1
}