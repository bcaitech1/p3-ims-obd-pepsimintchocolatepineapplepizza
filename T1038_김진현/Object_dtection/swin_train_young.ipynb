{
 "cells": [
  {
   "cell_type": "code",
   "execution_count": 1,
   "metadata": {},
   "outputs": [],
   "source": [
    "from mmcv import Config\n",
    "from mmdet.datasets import build_dataset\n",
    "from mmdet.models import build_detector\n",
    "from mmdet.apis import train_detector\n",
    "from mmdet.datasets import (build_dataloader, build_dataset,\n",
    "                            replace_ImageToTensor)"
   ]
  },
  {
   "cell_type": "code",
   "execution_count": 2,
   "metadata": {},
   "outputs": [],
   "source": [
    "    classes = (\"UNKNOWN\", \"General trash\", \"Paper\", \"Paper pack\", \"Metal\", \"Glass\", \n",
    "            \"Plastic\", \"Styrofoam\", \"Plastic bag\", \"Battery\", \"Clothing\")\n",
    "    # config file 들고오기\n",
    "    cfg = Config.fromfile('/opt/ml/code/mmdetection_trash/configs/_base_/models/swim_base_htc.py')\n",
    "\n",
    "    PREFIX = '../../input/data/'\n",
    "    cfg.runner.max_epochs = 60\n",
    "\n",
    "  \n",
    "\n",
    "    # dataset 바꾸기\n",
    "    cfg.data.train.classes = classes\n",
    "    cfg.data.train.img_prefix = PREFIX\n",
    "    cfg.data.train.seg_prefix = PREFIX\n",
    "    cfg.data.train.ann_file = PREFIX + 'train_data3.json'\n",
    "    #cfg.data.train.pipeline[2]['img_scale'] = (512, 512)\n",
    "\n",
    "    cfg.data.val.classes = classes\n",
    "    cfg.data.val.img_prefix = PREFIX\n",
    "    cfg.data.val.ann_file = PREFIX + 'valid_data3.json'\n",
    "    #cfg.data.val.pipeline[1]['img_scale'] = (512, 512)\n",
    "\n",
    "    cfg.data.test.classes = classes\n",
    "    cfg.data.test.img_prefix = PREFIX\n",
    "    cfg.data.test.ann_file = PREFIX + 'test.json'\n",
    "    #cfg.data.test.pipeline[1]['img_scale'] = (512, 512)\n",
    "\n",
    "    cfg.data.samples_per_gpu = 2\n",
    "\n",
    "    # cfg.optimizer = dict(type='AdamW', lr=0.0001, weight_decay=0.0001)\n",
    "    # cfg.lr_config = dict(\n",
    "    #     policy='CosineRestart',\n",
    "    #     warmup='linear',\n",
    "    #     warmup_iters=200,\n",
    "    #     warmup_ratio=1.0 / 10,\n",
    "    #     periods=[20,12,12,12,12],\n",
    "    #     restart_weights = [1,0.7,0.6,0.5,0.4],\n",
    "    #     min_lr_ratio=2e-6)\n",
    "\n",
    "    cfg.seed= 24\n",
    "    cfg.gpu_ids = [0]\n",
    "    cfg.work_dir = './work_dirs/swim_b_htc_01_losschange'\n",
    "    cfg.log_config.interval=100\n",
    "\n",
    "    cfg.checkpoint_config = dict(max_keep_ckpts=2, interval=1)\n",
    "    #cfg.model.roi_head.bbox_head.num_classes = 11\n",
    "\n",
    "    #이어하기\n",
    "    #cfg.resume_from = './work_dirs/swin_t_mask_rcnn/epoch_15.pth'\n",
    "    cfg.optimizer_config.grad_clip = dict(max_norm=35, norm_type=2)\n",
    "\n",
    "    #group_name = '아무거나'; ##그룹이름(run 여러개를 그룹으로 묶어줄 수 있습니다)\n",
    "#     project_name = 'stage_3_object_det'; ##프로젝트 이름\n",
    "#     run_name = 'swim_b_htc_01_losschange'; ##run 이름stage_3_object_det\n",
    "#     config_list = {\n",
    "#         'epoch' : cfg.runner.max_epochs,\n",
    "#         'batch_size' :  cfg.data.samples_per_gpu,\n",
    "#         'optimizer' : cfg.optimizer,\n",
    "#         'optimizer_config' : cfg.optimizer_config,\n",
    "#         'lr_config' : cfg.lr_config\n",
    "#     }\n",
    "    ## 원하는 wandb.init() argument값 추가해주세요\n",
    "    #cfg.log_config.hooks[1].init_kwargs['group']=group_name   # group name(option)\n",
    "#     cfg.log_config.hooks[1].init_kwargs['project'] = project_name\n",
    "#     cfg.log_config.hooks[1].init_kwargs['name'] = run_name    # run name\n",
    "#     cfg.log_config.hooks[1].init_kwargs['config'] = config_list    # config"
   ]
  },
  {
   "cell_type": "code",
   "execution_count": 3,
   "metadata": {},
   "outputs": [
    {
     "name": "stderr",
     "output_type": "stream",
     "text": [
      "2021-05-19 15:56:23,894 - mmdet - INFO - load model from: /opt/ml/code/mmdetection_trash/work_dirs/swin/swin_base_patch4_window7_224_22k.pth\n",
      "2021-05-19 15:56:24,925 - mmdet - WARNING - The model and loaded state dict do not match exactly\n",
      "\n",
      "unexpected key in source state_dict: norm.weight, norm.bias, head.weight, head.bias, layers.0.blocks.1.attn_mask, layers.1.blocks.1.attn_mask, layers.2.blocks.1.attn_mask, layers.2.blocks.3.attn_mask, layers.2.blocks.5.attn_mask, layers.2.blocks.7.attn_mask, layers.2.blocks.9.attn_mask, layers.2.blocks.11.attn_mask, layers.2.blocks.13.attn_mask, layers.2.blocks.15.attn_mask, layers.2.blocks.17.attn_mask\n",
      "\n",
      "missing keys in source state_dict: norm0.weight, norm0.bias, norm1.weight, norm1.bias, norm2.weight, norm2.bias, norm3.weight, norm3.bias\n",
      "\n"
     ]
    }
   ],
   "source": [
    "model = build_detector(cfg.model)"
   ]
  },
  {
   "cell_type": "code",
   "execution_count": 4,
   "metadata": {},
   "outputs": [
    {
     "name": "stdout",
     "output_type": "stream",
     "text": [
      "loading annotations into memory...\n",
      "Done (t=3.41s)\n",
      "creating index...\n",
      "index created!\n"
     ]
    },
    {
     "name": "stderr",
     "output_type": "stream",
     "text": [
      "/opt/conda/lib/python3.7/site-packages/albumentations/augmentations/transforms.py:2611: UserWarning: blur_limit and sigma_limit minimum value can not be both equal to 0. blur_limit minimum value changed to 3.\n",
      "  \"blur_limit and sigma_limit minimum value can not be both equal to 0. \"\n"
     ]
    }
   ],
   "source": [
    "datasets = [build_dataset(cfg.data.train)]"
   ]
  },
  {
   "cell_type": "code",
   "execution_count": 5,
   "metadata": {
    "tags": []
   },
   "outputs": [
    {
     "name": "stdout",
     "output_type": "stream",
     "text": [
      "loading annotations into memory...\n"
     ]
    },
    {
     "name": "stderr",
     "output_type": "stream",
     "text": [
      "2021-05-19 15:56:32,361 - mmdet - INFO - Start running, host: root@fca80b852140, work_dir: /opt/ml/code/mmdetection_trash/work_dirs/swim_b_htc_01_losschange\n",
      "2021-05-19 15:56:32,361 - mmdet - INFO - workflow: [('train', 1)], max: 60 epochs\n"
     ]
    },
    {
     "name": "stdout",
     "output_type": "stream",
     "text": [
      "Done (t=0.79s)\n",
      "creating index...\n",
      "index created!\n"
     ]
    },
    {
     "name": "stderr",
     "output_type": "stream",
     "text": [
      "2021-05-19 15:58:47,289 - mmdet - INFO - Epoch [1][100/1313]\tlr: 9.909e-06, eta: 1 day, 5:29:10, time: 1.349, data_time: 0.055, memory: 15581, loss_rpn_cls: 0.6573, loss_rpn_bbox: 0.0479, loss_semantic_seg: 1.4450, s0.loss_cls: 1.0777, s0.acc: 82.4580, s0.loss_bbox: 0.0225, s0.loss_mask: 2.4290, s1.loss_cls: 0.3525, s1.acc: 91.5605, s1.loss_bbox: 0.0056, s1.loss_mask: 1.9398, s2.loss_cls: 0.2368, s2.acc: 84.6855, s2.loss_bbox: 0.0007, s2.loss_mask: 1.0519, loss: 9.2667, grad_norm: 128.0842\n",
      "2021-05-19 16:01:18,248 - mmdet - INFO - Epoch [1][200/1313]\tlr: 1.991e-05, eta: 1 day, 7:12:00, time: 1.510, data_time: 0.020, memory: 15908, loss_rpn_cls: 0.3594, loss_rpn_bbox: 0.0432, loss_semantic_seg: 0.3531, s0.loss_cls: 0.7041, s0.acc: 91.9736, s0.loss_bbox: 0.1903, s0.loss_mask: 0.7662, s1.loss_cls: 0.2721, s1.acc: 96.2617, s1.loss_bbox: 0.0598, s1.loss_mask: 0.4259, s2.loss_cls: 0.1163, s2.acc: 98.0098, s2.loss_bbox: 0.0096, s2.loss_mask: 0.2035, loss: 3.5036, grad_norm: 22.9085\n",
      "2021-05-19 16:04:03,861 - mmdet - INFO - Epoch [1][300/1313]\tlr: 2.991e-05, eta: 1 day, 8:48:28, time: 1.656, data_time: 0.023, memory: 16021, loss_rpn_cls: 0.2143, loss_rpn_bbox: 0.0434, loss_semantic_seg: 0.2767, s0.loss_cls: 0.7265, s0.acc: 87.8252, s0.loss_bbox: 0.2957, s0.loss_mask: 0.6848, s1.loss_cls: 0.2591, s1.acc: 94.5479, s1.loss_bbox: 0.0939, s1.loss_mask: 0.3501, s2.loss_cls: 0.1007, s2.acc: 97.3311, s2.loss_bbox: 0.0149, s2.loss_mask: 0.1759, loss: 3.2359, grad_norm: 14.6456\n",
      "2021-05-19 16:06:46,506 - mmdet - INFO - Epoch [1][400/1313]\tlr: 3.991e-05, eta: 1 day, 9:25:38, time: 1.626, data_time: 0.023, memory: 16119, loss_rpn_cls: 0.1891, loss_rpn_bbox: 0.0417, loss_semantic_seg: 0.2353, s0.loss_cls: 0.6953, s0.acc: 86.8525, s0.loss_bbox: 0.3261, s0.loss_mask: 0.6250, s1.loss_cls: 0.2491, s1.acc: 93.8594, s1.loss_bbox: 0.1062, s1.loss_mask: 0.3190, s2.loss_cls: 0.0950, s2.acc: 97.0918, s2.loss_bbox: 0.0164, s2.loss_mask: 0.1600, loss: 3.0582, grad_norm: 12.4486\n",
      "2021-05-19 16:09:38,060 - mmdet - INFO - Epoch [1][500/1313]\tlr: 4.991e-05, eta: 1 day, 10:10:06, time: 1.716, data_time: 0.025, memory: 16435, loss_rpn_cls: 0.1218, loss_rpn_bbox: 0.0414, loss_semantic_seg: 0.2149, s0.loss_cls: 0.6854, s0.acc: 87.0293, s0.loss_bbox: 0.3124, s0.loss_mask: 0.5671, s1.loss_cls: 0.2573, s1.acc: 92.9170, s1.loss_bbox: 0.1285, s1.loss_mask: 0.2866, s2.loss_cls: 0.0975, s2.acc: 96.6582, s2.loss_bbox: 0.0222, s2.loss_mask: 0.1444, loss: 2.8797, grad_norm: 11.9005\n",
      "2021-05-19 16:12:30,493 - mmdet - INFO - Epoch [1][600/1313]\tlr: 5.990e-05, eta: 1 day, 10:40:42, time: 1.724, data_time: 0.023, memory: 16668, loss_rpn_cls: 0.1055, loss_rpn_bbox: 0.0416, loss_semantic_seg: 0.2085, s0.loss_cls: 0.6586, s0.acc: 85.9863, s0.loss_bbox: 0.3327, s0.loss_mask: 0.5641, s1.loss_cls: 0.2562, s1.acc: 90.7334, s1.loss_bbox: 0.1678, s1.loss_mask: 0.2758, s2.loss_cls: 0.0936, s2.acc: 94.9941, s2.loss_bbox: 0.0398, s2.loss_mask: 0.1388, loss: 2.8829, grad_norm: 12.7335\n",
      "2021-05-19 16:15:30,846 - mmdet - INFO - Epoch [1][700/1313]\tlr: 6.990e-05, eta: 1 day, 11:16:28, time: 1.804, data_time: 0.023, memory: 17008, loss_rpn_cls: 0.0950, loss_rpn_bbox: 0.0457, loss_semantic_seg: 0.1953, s0.loss_cls: 0.7137, s0.acc: 85.9785, s0.loss_bbox: 0.3128, s0.loss_mask: 0.5272, s1.loss_cls: 0.3008, s1.acc: 89.5615, s1.loss_bbox: 0.1791, s1.loss_mask: 0.2557, s2.loss_cls: 0.1208, s2.acc: 93.2383, s2.loss_bbox: 0.0567, s2.loss_mask: 0.1256, loss: 2.9284, grad_norm: 10.8333\n",
      "2021-05-19 16:18:30,693 - mmdet - INFO - Epoch [1][800/1313]\tlr: 7.990e-05, eta: 1 day, 11:41:43, time: 1.798, data_time: 0.023, memory: 17008, loss_rpn_cls: 0.0881, loss_rpn_bbox: 0.0364, loss_semantic_seg: 0.1964, s0.loss_cls: 0.6166, s0.acc: 86.5693, s0.loss_bbox: 0.2891, s0.loss_mask: 0.4879, s1.loss_cls: 0.2685, s1.acc: 88.8809, s1.loss_bbox: 0.1889, s1.loss_mask: 0.2370, s2.loss_cls: 0.1095, s2.acc: 92.0381, s2.loss_bbox: 0.0672, s2.loss_mask: 0.1139, loss: 2.6995, grad_norm: 11.7233\n",
      "2021-05-19 16:21:36,953 - mmdet - INFO - Epoch [1][900/1313]\tlr: 8.990e-05, eta: 1 day, 12:09:55, time: 1.863, data_time: 0.024, memory: 17548, loss_rpn_cls: 0.0878, loss_rpn_bbox: 0.0416, loss_semantic_seg: 0.1829, s0.loss_cls: 0.6179, s0.acc: 86.3896, s0.loss_bbox: 0.2849, s0.loss_mask: 0.4784, s1.loss_cls: 0.2693, s1.acc: 88.1670, s1.loss_bbox: 0.1914, s1.loss_mask: 0.2289, s2.loss_cls: 0.1106, s2.acc: 91.1754, s2.loss_bbox: 0.0750, s2.loss_mask: 0.1102, loss: 2.6788, grad_norm: 10.5900\n",
      "2021-05-19 16:24:40,792 - mmdet - INFO - Epoch [1][1000/1313]\tlr: 9.990e-05, eta: 1 day, 12:28:44, time: 1.838, data_time: 0.022, memory: 17647, loss_rpn_cls: 0.0938, loss_rpn_bbox: 0.0393, loss_semantic_seg: 0.1946, s0.loss_cls: 0.6009, s0.acc: 86.3486, s0.loss_bbox: 0.2804, s0.loss_mask: 0.4728, s1.loss_cls: 0.2625, s1.acc: 88.2053, s1.loss_bbox: 0.2044, s1.loss_mask: 0.2278, s2.loss_cls: 0.1061, s2.acc: 91.0518, s2.loss_bbox: 0.0814, s2.loss_mask: 0.1101, loss: 2.6742, grad_norm: 10.7731\n",
      "2021-05-19 16:27:48,800 - mmdet - INFO - Epoch [1][1100/1313]\tlr: 1.000e-04, eta: 1 day, 12:48:29, time: 1.880, data_time: 0.021, memory: 17647, loss_rpn_cls: 0.0915, loss_rpn_bbox: 0.0387, loss_semantic_seg: 0.1812, s0.loss_cls: 0.5701, s0.acc: 85.6777, s0.loss_bbox: 0.2914, s0.loss_mask: 0.4521, s1.loss_cls: 0.2514, s1.acc: 87.2292, s1.loss_bbox: 0.2221, s1.loss_mask: 0.2131, s2.loss_cls: 0.1011, s2.acc: 89.7210, s2.loss_bbox: 0.0919, s2.loss_mask: 0.1005, loss: 2.6050, grad_norm: 10.7747\n",
      "2021-05-19 16:30:59,582 - mmdet - INFO - Epoch [1][1200/1313]\tlr: 1.000e-04, eta: 1 day, 13:07:24, time: 1.908, data_time: 0.022, memory: 17647, loss_rpn_cls: 0.0760, loss_rpn_bbox: 0.0338, loss_semantic_seg: 0.1736, s0.loss_cls: 0.5075, s0.acc: 86.1807, s0.loss_bbox: 0.2831, s0.loss_mask: 0.4589, s1.loss_cls: 0.2227, s1.acc: 87.7853, s1.loss_bbox: 0.2108, s1.loss_mask: 0.2152, s2.loss_cls: 0.0881, s2.acc: 90.4946, s2.loss_bbox: 0.0833, s2.loss_mask: 0.1015, loss: 2.4546, grad_norm: 9.9158\n",
      "2021-05-19 16:34:06,262 - mmdet - INFO - Epoch [1][1300/1313]\tlr: 1.000e-04, eta: 1 day, 13:18:51, time: 1.867, data_time: 0.021, memory: 17647, loss_rpn_cls: 0.0804, loss_rpn_bbox: 0.0395, loss_semantic_seg: 0.1905, s0.loss_cls: 0.5035, s0.acc: 85.9580, s0.loss_bbox: 0.2723, s0.loss_mask: 0.4218, s1.loss_cls: 0.2254, s1.acc: 87.3139, s1.loss_bbox: 0.2126, s1.loss_mask: 0.1940, s2.loss_cls: 0.0914, s2.acc: 89.8622, s2.loss_bbox: 0.0908, s2.loss_mask: 0.0904, loss: 2.4125, grad_norm: 10.2417\n",
      "2021-05-19 16:34:28,999 - mmdet - INFO - Saving checkpoint at 1 epochs\n"
     ]
    },
    {
     "name": "stdout",
     "output_type": "stream",
     "text": [
      "[>>>>>>>>>>>>>>>>>>>>>>>>>>>>>] 647/647, 2.8 task/s, elapsed: 228s, ETA:     0s"
     ]
    },
    {
     "ename": "IndexError",
     "evalue": "only integers, slices (`:`), ellipsis (`...`), numpy.newaxis (`None`) and integer or boolean arrays are valid indices",
     "output_type": "error",
     "traceback": [
      "\u001b[0;31m---------------------------------------------------------------------------\u001b[0m",
      "\u001b[0;31mIndexError\u001b[0m                                Traceback (most recent call last)",
      "\u001b[0;32m<ipython-input-5-59b5768e9e45>\u001b[0m in \u001b[0;36m<module>\u001b[0;34m\u001b[0m\n\u001b[0;32m----> 1\u001b[0;31m \u001b[0mtrain_detector\u001b[0m\u001b[0;34m(\u001b[0m\u001b[0mmodel\u001b[0m\u001b[0;34m,\u001b[0m \u001b[0mdatasets\u001b[0m\u001b[0;34m[\u001b[0m\u001b[0;36m0\u001b[0m\u001b[0;34m]\u001b[0m\u001b[0;34m,\u001b[0m \u001b[0mcfg\u001b[0m\u001b[0;34m,\u001b[0m \u001b[0mdistributed\u001b[0m\u001b[0;34m=\u001b[0m\u001b[0;32mFalse\u001b[0m\u001b[0;34m,\u001b[0m \u001b[0mvalidate\u001b[0m\u001b[0;34m=\u001b[0m\u001b[0;32mTrue\u001b[0m\u001b[0;34m)\u001b[0m\u001b[0;34m\u001b[0m\u001b[0;34m\u001b[0m\u001b[0m\n\u001b[0m",
      "\u001b[0;32m~/code/mmdetection_trash/mmdet/apis/train.py\u001b[0m in \u001b[0;36mtrain_detector\u001b[0;34m(model, dataset, cfg, distributed, validate, timestamp, meta)\u001b[0m\n\u001b[1;32m    167\u001b[0m     \u001b[0;32melif\u001b[0m \u001b[0mcfg\u001b[0m\u001b[0;34m.\u001b[0m\u001b[0mload_from\u001b[0m\u001b[0;34m:\u001b[0m\u001b[0;34m\u001b[0m\u001b[0;34m\u001b[0m\u001b[0m\n\u001b[1;32m    168\u001b[0m         \u001b[0mrunner\u001b[0m\u001b[0;34m.\u001b[0m\u001b[0mload_checkpoint\u001b[0m\u001b[0;34m(\u001b[0m\u001b[0mcfg\u001b[0m\u001b[0;34m.\u001b[0m\u001b[0mload_from\u001b[0m\u001b[0;34m)\u001b[0m\u001b[0;34m\u001b[0m\u001b[0;34m\u001b[0m\u001b[0m\n\u001b[0;32m--> 169\u001b[0;31m     \u001b[0mrunner\u001b[0m\u001b[0;34m.\u001b[0m\u001b[0mrun\u001b[0m\u001b[0;34m(\u001b[0m\u001b[0mdata_loaders\u001b[0m\u001b[0;34m,\u001b[0m \u001b[0mcfg\u001b[0m\u001b[0;34m.\u001b[0m\u001b[0mworkflow\u001b[0m\u001b[0;34m)\u001b[0m\u001b[0;34m\u001b[0m\u001b[0;34m\u001b[0m\u001b[0m\n\u001b[0m",
      "\u001b[0;32m/opt/conda/lib/python3.7/site-packages/mmcv/runner/epoch_based_runner.py\u001b[0m in \u001b[0;36mrun\u001b[0;34m(self, data_loaders, workflow, max_epochs, **kwargs)\u001b[0m\n\u001b[1;32m    123\u001b[0m                     \u001b[0;32mif\u001b[0m \u001b[0mmode\u001b[0m \u001b[0;34m==\u001b[0m \u001b[0;34m'train'\u001b[0m \u001b[0;32mand\u001b[0m \u001b[0mself\u001b[0m\u001b[0;34m.\u001b[0m\u001b[0mepoch\u001b[0m \u001b[0;34m>=\u001b[0m \u001b[0mself\u001b[0m\u001b[0;34m.\u001b[0m\u001b[0m_max_epochs\u001b[0m\u001b[0;34m:\u001b[0m\u001b[0;34m\u001b[0m\u001b[0;34m\u001b[0m\u001b[0m\n\u001b[1;32m    124\u001b[0m                         \u001b[0;32mbreak\u001b[0m\u001b[0;34m\u001b[0m\u001b[0;34m\u001b[0m\u001b[0m\n\u001b[0;32m--> 125\u001b[0;31m                     \u001b[0mepoch_runner\u001b[0m\u001b[0;34m(\u001b[0m\u001b[0mdata_loaders\u001b[0m\u001b[0;34m[\u001b[0m\u001b[0mi\u001b[0m\u001b[0;34m]\u001b[0m\u001b[0;34m,\u001b[0m \u001b[0;34m**\u001b[0m\u001b[0mkwargs\u001b[0m\u001b[0;34m)\u001b[0m\u001b[0;34m\u001b[0m\u001b[0;34m\u001b[0m\u001b[0m\n\u001b[0m\u001b[1;32m    126\u001b[0m \u001b[0;34m\u001b[0m\u001b[0m\n\u001b[1;32m    127\u001b[0m         \u001b[0mtime\u001b[0m\u001b[0;34m.\u001b[0m\u001b[0msleep\u001b[0m\u001b[0;34m(\u001b[0m\u001b[0;36m1\u001b[0m\u001b[0;34m)\u001b[0m  \u001b[0;31m# wait for some hooks like loggers to finish\u001b[0m\u001b[0;34m\u001b[0m\u001b[0;34m\u001b[0m\u001b[0m\n",
      "\u001b[0;32m/opt/conda/lib/python3.7/site-packages/mmcv/runner/epoch_based_runner.py\u001b[0m in \u001b[0;36mtrain\u001b[0;34m(self, data_loader, **kwargs)\u001b[0m\n\u001b[1;32m     52\u001b[0m             \u001b[0mself\u001b[0m\u001b[0;34m.\u001b[0m\u001b[0m_iter\u001b[0m \u001b[0;34m+=\u001b[0m \u001b[0;36m1\u001b[0m\u001b[0;34m\u001b[0m\u001b[0;34m\u001b[0m\u001b[0m\n\u001b[1;32m     53\u001b[0m \u001b[0;34m\u001b[0m\u001b[0m\n\u001b[0;32m---> 54\u001b[0;31m         \u001b[0mself\u001b[0m\u001b[0;34m.\u001b[0m\u001b[0mcall_hook\u001b[0m\u001b[0;34m(\u001b[0m\u001b[0;34m'after_train_epoch'\u001b[0m\u001b[0;34m)\u001b[0m\u001b[0;34m\u001b[0m\u001b[0;34m\u001b[0m\u001b[0m\n\u001b[0m\u001b[1;32m     55\u001b[0m         \u001b[0mself\u001b[0m\u001b[0;34m.\u001b[0m\u001b[0m_epoch\u001b[0m \u001b[0;34m+=\u001b[0m \u001b[0;36m1\u001b[0m\u001b[0;34m\u001b[0m\u001b[0;34m\u001b[0m\u001b[0m\n\u001b[1;32m     56\u001b[0m \u001b[0;34m\u001b[0m\u001b[0m\n",
      "\u001b[0;32m/opt/conda/lib/python3.7/site-packages/mmcv/runner/base_runner.py\u001b[0m in \u001b[0;36mcall_hook\u001b[0;34m(self, fn_name)\u001b[0m\n\u001b[1;32m    305\u001b[0m         \"\"\"\n\u001b[1;32m    306\u001b[0m         \u001b[0;32mfor\u001b[0m \u001b[0mhook\u001b[0m \u001b[0;32min\u001b[0m \u001b[0mself\u001b[0m\u001b[0;34m.\u001b[0m\u001b[0m_hooks\u001b[0m\u001b[0;34m:\u001b[0m\u001b[0;34m\u001b[0m\u001b[0;34m\u001b[0m\u001b[0m\n\u001b[0;32m--> 307\u001b[0;31m             \u001b[0mgetattr\u001b[0m\u001b[0;34m(\u001b[0m\u001b[0mhook\u001b[0m\u001b[0;34m,\u001b[0m \u001b[0mfn_name\u001b[0m\u001b[0;34m)\u001b[0m\u001b[0;34m(\u001b[0m\u001b[0mself\u001b[0m\u001b[0;34m)\u001b[0m\u001b[0;34m\u001b[0m\u001b[0;34m\u001b[0m\u001b[0m\n\u001b[0m\u001b[1;32m    308\u001b[0m \u001b[0;34m\u001b[0m\u001b[0m\n\u001b[1;32m    309\u001b[0m     def load_checkpoint(self,\n",
      "\u001b[0;32m~/code/mmdetection_trash/mmdet/core/evaluation/eval_hooks.py\u001b[0m in \u001b[0;36mafter_train_epoch\u001b[0;34m(self, runner)\u001b[0m\n\u001b[1;32m    146\u001b[0m         \u001b[0;32mfrom\u001b[0m \u001b[0mmmdet\u001b[0m\u001b[0;34m.\u001b[0m\u001b[0mapis\u001b[0m \u001b[0;32mimport\u001b[0m \u001b[0msingle_gpu_test\u001b[0m\u001b[0;34m\u001b[0m\u001b[0;34m\u001b[0m\u001b[0m\n\u001b[1;32m    147\u001b[0m         \u001b[0mresults\u001b[0m \u001b[0;34m=\u001b[0m \u001b[0msingle_gpu_test\u001b[0m\u001b[0;34m(\u001b[0m\u001b[0mrunner\u001b[0m\u001b[0;34m.\u001b[0m\u001b[0mmodel\u001b[0m\u001b[0;34m,\u001b[0m \u001b[0mself\u001b[0m\u001b[0;34m.\u001b[0m\u001b[0mdataloader\u001b[0m\u001b[0;34m,\u001b[0m \u001b[0mshow\u001b[0m\u001b[0;34m=\u001b[0m\u001b[0;32mFalse\u001b[0m\u001b[0;34m)\u001b[0m\u001b[0;34m\u001b[0m\u001b[0;34m\u001b[0m\u001b[0m\n\u001b[0;32m--> 148\u001b[0;31m         \u001b[0mkey_score\u001b[0m \u001b[0;34m=\u001b[0m \u001b[0mself\u001b[0m\u001b[0;34m.\u001b[0m\u001b[0mevaluate\u001b[0m\u001b[0;34m(\u001b[0m\u001b[0mrunner\u001b[0m\u001b[0;34m,\u001b[0m \u001b[0mresults\u001b[0m\u001b[0;34m)\u001b[0m\u001b[0;34m\u001b[0m\u001b[0;34m\u001b[0m\u001b[0m\n\u001b[0m\u001b[1;32m    149\u001b[0m         \u001b[0;32mif\u001b[0m \u001b[0mself\u001b[0m\u001b[0;34m.\u001b[0m\u001b[0msave_best\u001b[0m\u001b[0;34m:\u001b[0m\u001b[0;34m\u001b[0m\u001b[0;34m\u001b[0m\u001b[0m\n\u001b[1;32m    150\u001b[0m             \u001b[0mself\u001b[0m\u001b[0;34m.\u001b[0m\u001b[0msave_best_checkpoint\u001b[0m\u001b[0;34m(\u001b[0m\u001b[0mrunner\u001b[0m\u001b[0;34m,\u001b[0m \u001b[0mkey_score\u001b[0m\u001b[0;34m)\u001b[0m\u001b[0;34m\u001b[0m\u001b[0;34m\u001b[0m\u001b[0m\n",
      "\u001b[0;32m~/code/mmdetection_trash/mmdet/core/evaluation/eval_hooks.py\u001b[0m in \u001b[0;36mevaluate\u001b[0;34m(self, runner, results)\u001b[0m\n\u001b[1;32m    179\u001b[0m     \u001b[0;32mdef\u001b[0m \u001b[0mevaluate\u001b[0m\u001b[0;34m(\u001b[0m\u001b[0mself\u001b[0m\u001b[0;34m,\u001b[0m \u001b[0mrunner\u001b[0m\u001b[0;34m,\u001b[0m \u001b[0mresults\u001b[0m\u001b[0;34m)\u001b[0m\u001b[0;34m:\u001b[0m\u001b[0;34m\u001b[0m\u001b[0;34m\u001b[0m\u001b[0m\n\u001b[1;32m    180\u001b[0m         eval_res = self.dataloader.dataset.evaluate(\n\u001b[0;32m--> 181\u001b[0;31m             results, logger=runner.logger, **self.eval_kwargs)\n\u001b[0m\u001b[1;32m    182\u001b[0m         \u001b[0;32mfor\u001b[0m \u001b[0mname\u001b[0m\u001b[0;34m,\u001b[0m \u001b[0mval\u001b[0m \u001b[0;32min\u001b[0m \u001b[0meval_res\u001b[0m\u001b[0;34m.\u001b[0m\u001b[0mitems\u001b[0m\u001b[0;34m(\u001b[0m\u001b[0;34m)\u001b[0m\u001b[0;34m:\u001b[0m\u001b[0;34m\u001b[0m\u001b[0;34m\u001b[0m\u001b[0m\n\u001b[1;32m    183\u001b[0m             \u001b[0mrunner\u001b[0m\u001b[0;34m.\u001b[0m\u001b[0mlog_buffer\u001b[0m\u001b[0;34m.\u001b[0m\u001b[0moutput\u001b[0m\u001b[0;34m[\u001b[0m\u001b[0mname\u001b[0m\u001b[0;34m]\u001b[0m \u001b[0;34m=\u001b[0m \u001b[0mval\u001b[0m\u001b[0;34m\u001b[0m\u001b[0;34m\u001b[0m\u001b[0m\n",
      "\u001b[0;32m~/code/mmdetection_trash/mmdet/datasets/coco.py\u001b[0m in \u001b[0;36mevaluate\u001b[0;34m(self, results, metric, logger, jsonfile_prefix, classwise, proposal_nums, iou_thrs, metric_items)\u001b[0m\n\u001b[1;32m    415\u001b[0m                 \u001b[0mmetric_items\u001b[0m \u001b[0;34m=\u001b[0m \u001b[0;34m[\u001b[0m\u001b[0mmetric_items\u001b[0m\u001b[0;34m]\u001b[0m\u001b[0;34m\u001b[0m\u001b[0;34m\u001b[0m\u001b[0m\n\u001b[1;32m    416\u001b[0m \u001b[0;34m\u001b[0m\u001b[0m\n\u001b[0;32m--> 417\u001b[0;31m         \u001b[0mresult_files\u001b[0m\u001b[0;34m,\u001b[0m \u001b[0mtmp_dir\u001b[0m \u001b[0;34m=\u001b[0m \u001b[0mself\u001b[0m\u001b[0;34m.\u001b[0m\u001b[0mformat_results\u001b[0m\u001b[0;34m(\u001b[0m\u001b[0mresults\u001b[0m\u001b[0;34m,\u001b[0m \u001b[0mjsonfile_prefix\u001b[0m\u001b[0;34m)\u001b[0m\u001b[0;34m\u001b[0m\u001b[0;34m\u001b[0m\u001b[0m\n\u001b[0m\u001b[1;32m    418\u001b[0m \u001b[0;34m\u001b[0m\u001b[0m\n\u001b[1;32m    419\u001b[0m         \u001b[0meval_results\u001b[0m \u001b[0;34m=\u001b[0m \u001b[0mOrderedDict\u001b[0m\u001b[0;34m(\u001b[0m\u001b[0;34m)\u001b[0m\u001b[0;34m\u001b[0m\u001b[0;34m\u001b[0m\u001b[0m\n",
      "\u001b[0;32m~/code/mmdetection_trash/mmdet/datasets/coco.py\u001b[0m in \u001b[0;36mformat_results\u001b[0;34m(self, results, jsonfile_prefix, **kwargs)\u001b[0m\n\u001b[1;32m    360\u001b[0m         \u001b[0;32melse\u001b[0m\u001b[0;34m:\u001b[0m\u001b[0;34m\u001b[0m\u001b[0;34m\u001b[0m\u001b[0m\n\u001b[1;32m    361\u001b[0m             \u001b[0mtmp_dir\u001b[0m \u001b[0;34m=\u001b[0m \u001b[0;32mNone\u001b[0m\u001b[0;34m\u001b[0m\u001b[0;34m\u001b[0m\u001b[0m\n\u001b[0;32m--> 362\u001b[0;31m         \u001b[0mresult_files\u001b[0m \u001b[0;34m=\u001b[0m \u001b[0mself\u001b[0m\u001b[0;34m.\u001b[0m\u001b[0mresults2json\u001b[0m\u001b[0;34m(\u001b[0m\u001b[0mresults\u001b[0m\u001b[0;34m,\u001b[0m \u001b[0mjsonfile_prefix\u001b[0m\u001b[0;34m)\u001b[0m\u001b[0;34m\u001b[0m\u001b[0;34m\u001b[0m\u001b[0m\n\u001b[0m\u001b[1;32m    363\u001b[0m         \u001b[0;32mreturn\u001b[0m \u001b[0mresult_files\u001b[0m\u001b[0;34m,\u001b[0m \u001b[0mtmp_dir\u001b[0m\u001b[0;34m\u001b[0m\u001b[0;34m\u001b[0m\u001b[0m\n\u001b[1;32m    364\u001b[0m \u001b[0;34m\u001b[0m\u001b[0m\n",
      "\u001b[0;32m~/code/mmdetection_trash/mmdet/datasets/coco.py\u001b[0m in \u001b[0;36mresults2json\u001b[0;34m(self, results, outfile_prefix)\u001b[0m\n\u001b[1;32m    297\u001b[0m             \u001b[0mmmcv\u001b[0m\u001b[0;34m.\u001b[0m\u001b[0mdump\u001b[0m\u001b[0;34m(\u001b[0m\u001b[0mjson_results\u001b[0m\u001b[0;34m,\u001b[0m \u001b[0mresult_files\u001b[0m\u001b[0;34m[\u001b[0m\u001b[0;34m'bbox'\u001b[0m\u001b[0;34m]\u001b[0m\u001b[0;34m)\u001b[0m\u001b[0;34m\u001b[0m\u001b[0;34m\u001b[0m\u001b[0m\n\u001b[1;32m    298\u001b[0m         \u001b[0;32melif\u001b[0m \u001b[0misinstance\u001b[0m\u001b[0;34m(\u001b[0m\u001b[0mresults\u001b[0m\u001b[0;34m[\u001b[0m\u001b[0;36m0\u001b[0m\u001b[0;34m]\u001b[0m\u001b[0;34m,\u001b[0m \u001b[0mtuple\u001b[0m\u001b[0;34m)\u001b[0m\u001b[0;34m:\u001b[0m\u001b[0;34m\u001b[0m\u001b[0;34m\u001b[0m\u001b[0m\n\u001b[0;32m--> 299\u001b[0;31m             \u001b[0mjson_results\u001b[0m \u001b[0;34m=\u001b[0m \u001b[0mself\u001b[0m\u001b[0;34m.\u001b[0m\u001b[0m_segm2json\u001b[0m\u001b[0;34m(\u001b[0m\u001b[0mresults\u001b[0m\u001b[0;34m)\u001b[0m\u001b[0;34m\u001b[0m\u001b[0;34m\u001b[0m\u001b[0m\n\u001b[0m\u001b[1;32m    300\u001b[0m             \u001b[0mresult_files\u001b[0m\u001b[0;34m[\u001b[0m\u001b[0;34m'bbox'\u001b[0m\u001b[0;34m]\u001b[0m \u001b[0;34m=\u001b[0m \u001b[0;34mf'{outfile_prefix}.bbox.json'\u001b[0m\u001b[0;34m\u001b[0m\u001b[0;34m\u001b[0m\u001b[0m\n\u001b[1;32m    301\u001b[0m             \u001b[0mresult_files\u001b[0m\u001b[0;34m[\u001b[0m\u001b[0;34m'proposal'\u001b[0m\u001b[0;34m]\u001b[0m \u001b[0;34m=\u001b[0m \u001b[0;34mf'{outfile_prefix}.bbox.json'\u001b[0m\u001b[0;34m\u001b[0m\u001b[0;34m\u001b[0m\u001b[0m\n",
      "\u001b[0;32m~/code/mmdetection_trash/mmdet/datasets/coco.py\u001b[0m in \u001b[0;36m_segm2json\u001b[0;34m(self, results)\u001b[0m\n\u001b[1;32m    265\u001b[0m                     \u001b[0mdata\u001b[0m\u001b[0;34m[\u001b[0m\u001b[0;34m'score'\u001b[0m\u001b[0;34m]\u001b[0m \u001b[0;34m=\u001b[0m \u001b[0mfloat\u001b[0m\u001b[0;34m(\u001b[0m\u001b[0mmask_score\u001b[0m\u001b[0;34m[\u001b[0m\u001b[0mi\u001b[0m\u001b[0;34m]\u001b[0m\u001b[0;34m)\u001b[0m\u001b[0;34m\u001b[0m\u001b[0;34m\u001b[0m\u001b[0m\n\u001b[1;32m    266\u001b[0m                     \u001b[0mdata\u001b[0m\u001b[0;34m[\u001b[0m\u001b[0;34m'category_id'\u001b[0m\u001b[0;34m]\u001b[0m \u001b[0;34m=\u001b[0m \u001b[0mself\u001b[0m\u001b[0;34m.\u001b[0m\u001b[0mcat_ids\u001b[0m\u001b[0;34m[\u001b[0m\u001b[0mlabel\u001b[0m\u001b[0;34m]\u001b[0m\u001b[0;34m\u001b[0m\u001b[0;34m\u001b[0m\u001b[0m\n\u001b[0;32m--> 267\u001b[0;31m                     \u001b[0;32mif\u001b[0m \u001b[0misinstance\u001b[0m\u001b[0;34m(\u001b[0m\u001b[0msegms\u001b[0m\u001b[0;34m[\u001b[0m\u001b[0mi\u001b[0m\u001b[0;34m]\u001b[0m\u001b[0;34m[\u001b[0m\u001b[0;34m'counts'\u001b[0m\u001b[0;34m]\u001b[0m\u001b[0;34m,\u001b[0m \u001b[0mbytes\u001b[0m\u001b[0;34m)\u001b[0m\u001b[0;34m:\u001b[0m\u001b[0;34m\u001b[0m\u001b[0;34m\u001b[0m\u001b[0m\n\u001b[0m\u001b[1;32m    268\u001b[0m                         \u001b[0msegms\u001b[0m\u001b[0;34m[\u001b[0m\u001b[0mi\u001b[0m\u001b[0;34m]\u001b[0m\u001b[0;34m[\u001b[0m\u001b[0;34m'counts'\u001b[0m\u001b[0;34m]\u001b[0m \u001b[0;34m=\u001b[0m \u001b[0msegms\u001b[0m\u001b[0;34m[\u001b[0m\u001b[0mi\u001b[0m\u001b[0;34m]\u001b[0m\u001b[0;34m[\u001b[0m\u001b[0;34m'counts'\u001b[0m\u001b[0;34m]\u001b[0m\u001b[0;34m.\u001b[0m\u001b[0mdecode\u001b[0m\u001b[0;34m(\u001b[0m\u001b[0;34m)\u001b[0m\u001b[0;34m\u001b[0m\u001b[0;34m\u001b[0m\u001b[0m\n\u001b[1;32m    269\u001b[0m                     \u001b[0mdata\u001b[0m\u001b[0;34m[\u001b[0m\u001b[0;34m'segmentation'\u001b[0m\u001b[0;34m]\u001b[0m \u001b[0;34m=\u001b[0m \u001b[0msegms\u001b[0m\u001b[0;34m[\u001b[0m\u001b[0mi\u001b[0m\u001b[0;34m]\u001b[0m\u001b[0;34m\u001b[0m\u001b[0;34m\u001b[0m\u001b[0m\n",
      "\u001b[0;31mIndexError\u001b[0m: only integers, slices (`:`), ellipsis (`...`), numpy.newaxis (`None`) and integer or boolean arrays are valid indices"
     ]
    }
   ],
   "source": [
    "train_detector(model, datasets[0], cfg, distributed=False, validate=True)"
   ]
  },
  {
   "cell_type": "code",
   "execution_count": null,
   "metadata": {},
   "outputs": [],
   "source": []
  }
 ],
 "metadata": {
  "kernelspec": {
   "display_name": "Python 3",
   "language": "python",
   "name": "python3"
  },
  "language_info": {
   "codemirror_mode": {
    "name": "ipython",
    "version": 3
   },
   "file_extension": ".py",
   "mimetype": "text/x-python",
   "name": "python",
   "nbconvert_exporter": "python",
   "pygments_lexer": "ipython3",
   "version": "3.7.7"
  }
 },
 "nbformat": 4,
 "nbformat_minor": 4
}
