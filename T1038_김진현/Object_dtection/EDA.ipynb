{
 "metadata": {
  "language_info": {
   "codemirror_mode": {
    "name": "ipython",
    "version": 3
   },
   "file_extension": ".py",
   "mimetype": "text/x-python",
   "name": "python",
   "nbconvert_exporter": "python",
   "pygments_lexer": "ipython3",
   "version": "3.7.7"
  },
  "orig_nbformat": 2,
  "kernelspec": {
   "name": "python377jvsc74a57bd098b0a9b7b4eaaa670588a142fd0a9b87eaafe866f1db4228be72b4211d12040f",
   "display_name": "Python 3.7.7 64-bit ('base': conda)"
  }
 },
 "nbformat": 4,
 "nbformat_minor": 2,
 "cells": [
  {
   "cell_type": "code",
   "execution_count": 1,
   "metadata": {},
   "outputs": [
    {
     "output_type": "stream",
     "name": "stderr",
     "text": [
      "/opt/conda/lib/python3.7/site-packages/mmcv/utils/registry.py:250: UserWarning: The old API of register_module(module, force=False) is deprecated and will be removed, please use the new API register_module(name=None, force=False, module=None) instead.\n  'The old API of register_module(module, force=False) '\n"
     ]
    }
   ],
   "source": [
    "import mmcv\n",
    "from mmcv import Config\n",
    "from mmdet.datasets import (build_dataloader, build_dataset,\n",
    "                            replace_ImageToTensor)\n",
    "from mmdet.models import build_detector\n",
    "from mmdet.apis import single_gpu_test\n",
    "from mmcv.runner import load_checkpoint\n",
    "import os\n",
    "from mmcv.parallel import MMDataParallel\n",
    "import pandas as pd\n",
    "from pandas import DataFrame\n",
    "from pycocotools.coco import COCO\n",
    "import numpy as np"
   ]
  },
  {
   "cell_type": "code",
   "execution_count": null,
   "metadata": {},
   "outputs": [],
   "source": [
    "classes = (\"UNKNOWN\", \"General trash\", \"Paper\", \"Paper pack\", \"Metal\", \"Glass\", \n",
    "           \"Plastic\", \"Styrofoam\", \"Plastic bag\", \"Battery\", \"Clothing\")\n",
    "# config file 들고오기\n",
    "cfg = Config.fromfile('./configs/faster_rcnn/faster_rcnn_r50_fpn_1x_coco.py')\n",
    "\n",
    "PREFIX = '../../input/data/'\n",
    "\n",
    "epoch = 12\n",
    "\n",
    "# dataset 바꾸기\n",
    "cfg.data.train.classes = classes\n",
    "cfg.data.train.img_prefix = PREFIX\n",
    "cfg.data.train.ann_file = PREFIX + 'train.json'\n",
    "cfg.data.train.pipeline[2]['img_scale'] = (512, 512)\n",
    "\n",
    "cfg.data.val.classes = classes\n",
    "cfg.data.val.img_prefix = PREFIX\n",
    "cfg.data.val.ann_file = PREFIX + 'val.json'\n",
    "cfg.data.val.pipeline[1]['img_scale'] = (512, 512)\n",
    "\n",
    "cfg.data.test.classes = classes\n",
    "cfg.data.test.img_prefix = PREFIX\n",
    "cfg.data.test.ann_file = PREFIX + 'test.json'\n",
    "cfg.data.test.pipeline[1]['img_scale'] = (512, 512)\n",
    "\n",
    "cfg.data.samples_per_gpu = 4\n",
    "\n",
    "cfg.seed=2020\n",
    "cfg.gpu_ids = [0]\n",
    "cfg.work_dir = './work_dirs/faster_rcnn_r50_fpn_1x_trash'\n",
    "\n",
    "cfg.model.roi_head.bbox_head.num_classes = 11\n",
    "\n",
    "cfg.optimizer_config.grad_clip = dict(max_norm=35, norm_type=2)\n",
    "cfg.model.train_cfg = None\n",
    "\n",
    "# checkpoint path\n",
    "checkpoint_path = os.path.join(cfg.work_dir, f'epoch_{epoch}.pth')"
   ]
  },
  {
   "cell_type": "code",
   "execution_count": 2,
   "metadata": {},
   "outputs": [
    {
     "output_type": "stream",
     "name": "stdout",
     "text": [
      "loading annotations into memory...\n",
      "Done (t=5.88s)\n",
      "creating index...\n",
      "index created!\n"
     ]
    }
   ],
   "source": [
    "coco = COCO('/opt/ml/input/data/train_all.json')"
   ]
  },
  {
   "cell_type": "code",
   "execution_count": 3,
   "metadata": {},
   "outputs": [
    {
     "output_type": "execute_result",
     "data": {
      "text/plain": [
       "3272"
      ]
     },
     "metadata": {},
     "execution_count": 3
    }
   ],
   "source": [
    "file_names = []\n",
    "imag_ids = coco.getImgIds()\n",
    "len(imag_ids)"
   ]
  },
  {
   "cell_type": "code",
   "execution_count": 4,
   "metadata": {},
   "outputs": [],
   "source": [
    "categories = coco.loadCats(coco.getCatIds())"
   ]
  },
  {
   "cell_type": "code",
   "execution_count": 5,
   "metadata": {},
   "outputs": [],
   "source": [
    " image_ids = coco.getImgIds()\n",
    " #coco_annotations = coco.loadAnns(annotations_ids)"
   ]
  },
  {
   "cell_type": "code",
   "execution_count": 6,
   "metadata": {},
   "outputs": [
    {
     "output_type": "execute_result",
     "data": {
      "text/plain": [
       "3272"
      ]
     },
     "metadata": {},
     "execution_count": 6
    }
   ],
   "source": [
    "len(image_ids)"
   ]
  },
  {
   "cell_type": "code",
   "execution_count": 7,
   "metadata": {},
   "outputs": [],
   "source": [
    "annotations_ids = coco.getAnnIds(imgIds=image_ids[0], iscrowd=False)\n",
    "\n",
    "coco_annotations = coco.loadAnns(annotations_ids)"
   ]
  },
  {
   "cell_type": "code",
   "execution_count": 8,
   "metadata": {},
   "outputs": [
    {
     "output_type": "execute_result",
     "data": {
      "text/plain": [
       "(8, [109.0, 150.7, 161.9, 159.8])"
      ]
     },
     "metadata": {},
     "execution_count": 8
    }
   ],
   "source": [
    "coco_annotations[0]['category_id'], coco_annotations[0]['bbox'] # w, h"
   ]
  },
  {
   "cell_type": "code",
   "execution_count": null,
   "metadata": {},
   "outputs": [],
   "source": []
  },
  {
   "cell_type": "code",
   "execution_count": 73,
   "metadata": {},
   "outputs": [],
   "source": [
    "def sizetocate(set):\n",
    "    for i in range(30):\n",
    "        if set < i  * 500:\n",
    "            return i\n",
    "    return 30 "
   ]
  },
  {
   "cell_type": "code",
   "execution_count": 78,
   "metadata": {},
   "outputs": [
    {
     "output_type": "execute_result",
     "data": {
      "text/plain": [
       "29"
      ]
     },
     "metadata": {},
     "execution_count": 78
    }
   ],
   "source": [
    "sizetocate(14400)"
   ]
  },
  {
   "cell_type": "code",
   "execution_count": 102,
   "metadata": {},
   "outputs": [],
   "source": [
    "avg = 14579\n",
    "mid_down = 32* 32\n",
    "mid_up = 96* 96\n",
    "#avg = 5000"
   ]
  },
  {
   "cell_type": "code",
   "execution_count": 84,
   "metadata": {},
   "outputs": [],
   "source": [
    "classes = [\"UNKNOWN\", \"General trash\", \"Paper\", \"Paper pack\", \"Metal\", \"Glass\", \n",
    "           \"Plastic\", \"Styrofoam\", \"Plastic bag\", \"Battery\", \"Clothing\"]"
   ]
  },
  {
   "cell_type": "code",
   "execution_count": 87,
   "metadata": {},
   "outputs": [],
   "source": [
    "import numpy as np"
   ]
  },
  {
   "cell_type": "code",
   "execution_count": 90,
   "metadata": {},
   "outputs": [],
   "source": [
    "arr = np.zeros((12,3))"
   ]
  },
  {
   "cell_type": "code",
   "execution_count": 91,
   "metadata": {},
   "outputs": [
    {
     "output_type": "execute_result",
     "data": {
      "text/plain": [
       "array([[0., 0., 0.],\n",
       "       [0., 0., 0.],\n",
       "       [0., 0., 0.],\n",
       "       [0., 0., 0.],\n",
       "       [0., 0., 0.],\n",
       "       [0., 0., 0.],\n",
       "       [0., 0., 0.],\n",
       "       [0., 0., 0.],\n",
       "       [0., 0., 0.],\n",
       "       [0., 0., 0.],\n",
       "       [0., 0., 0.],\n",
       "       [0., 0., 0.]])"
      ]
     },
     "metadata": {},
     "execution_count": 91
    }
   ],
   "source": [
    "arr"
   ]
  },
  {
   "cell_type": "code",
   "execution_count": 19,
   "metadata": {},
   "outputs": [],
   "source": [
    "rate = 0\n",
    "cou = 0\n",
    "arr = np.zeros(8)\n",
    "#class_cou =  [0 for i in range(len(classes))]\n",
    "for i in range(len(image_ids)):\n",
    "    annotations_ids = coco.getAnnIds(imgIds=image_ids[i], iscrowd=False)\n",
    "\n",
    "    coco_annotations = coco.loadAnns(annotations_ids)\n",
    "    for j in range(len(coco_annotations)):\n",
    "        cou += 1\n",
    "        rate_tem = coco_annotations[j]['bbox'][2] / coco_annotations[j]['bbox'][3] # w, h\n",
    "        if rate_tem<=(0.25 + 0.33)/2:\n",
    "            arr[0] += 1\n",
    "        elif rate_tem<=(0.33 + 0.5  )/2:\n",
    "            arr[1] += 1\n",
    "        elif rate_tem<=(0.50 + 1.0)/2:\n",
    "            arr[2] += 1\n",
    "        elif rate_tem<=(1.0 + 2.0)/2:\n",
    "            arr[3] += 1\n",
    "        elif rate_tem<=(2.0 + 3.0)/2:\n",
    "            arr[4] += 1\n",
    "        elif rate_tem<=(3.0 + 4.0)/2:\n",
    "            arr[5] += 1\n",
    "        elif rate_tem<=(4.0 + 5.0)/2:\n",
    "            arr[6] += 1\n",
    "        else:\n",
    "            arr[7] += 1\n",
    "        #sizetocate(tem_size)\n",
    "        # if tem_size <= mid_down:\n",
    "        #     a  += 1\n",
    "        # elif tem_size <= mid_up:\n",
    "        #     b += 1\n",
    "        # else:\n",
    "        #     c += 1"
   ]
  },
  {
   "cell_type": "code",
   "execution_count": 20,
   "metadata": {},
   "outputs": [
    {
     "output_type": "execute_result",
     "data": {
      "text/plain": [
       "array([ 3.14393939,  4.88636364, 26.06818182, 42.57575758, 16.21212121,\n",
       "        4.04166667,  1.42045455,  1.65151515])"
      ]
     },
     "metadata": {},
     "execution_count": 20
    }
   ],
   "source": [
    "arr/cou * 100"
   ]
  },
  {
   "source": [
    "rate/cou"
   ],
   "cell_type": "code",
   "metadata": {},
   "execution_count": 13,
   "outputs": [
    {
     "output_type": "execute_result",
     "data": {
      "text/plain": [
       "1.243741136425897"
      ]
     },
     "metadata": {},
     "execution_count": 13
    }
   ]
  },
  {
   "cell_type": "code",
   "execution_count": 113,
   "metadata": {},
   "outputs": [
    {
     "output_type": "stream",
     "name": "stdout",
     "text": [
      "4458 10308 11634\n0.17, 0.39,0.44 \n"
     ]
    }
   ],
   "source": [
    "tem_s = a+b+c\n",
    "print(a, b,c )\n",
    "print(f'{a/tem_s:.2f}, {b/tem_s:.2f},{c/tem_s:.2f} ')\n"
   ]
  },
  {
   "cell_type": "code",
   "execution_count": 114,
   "metadata": {},
   "outputs": [],
   "source": [
    "l = 0\n",
    "r = 0\n",
    "#class_cou =  [0 for i in range(len(classes))]\n",
    "for i in range(len(image_ids)):\n",
    "    annotations_ids = coco.getAnnIds(imgIds=image_ids[i], iscrowd=False)\n",
    "\n",
    "    coco_annotations = coco.loadAnns(annotations_ids)\n",
    "    for j in range(len(coco_annotations)):\n",
    "        tem_size = coco_annotations[j]['bbox'][2] * coco_annotations[j]['bbox'][3] # w, h\n",
    "        #sizetocate(tem_size)\n",
    "        if tem_size <= mid_down:\n",
    "            arr[coco_annotations[j]['category_id']][0] += 1\n",
    "        elif tem_size <= mid_up:\n",
    "            arr[coco_annotations[j]['category_id']][1] += 1\n",
    "        else:\n",
    "            arr[coco_annotations[j]['category_id']][2] += 1"
   ]
  },
  {
   "cell_type": "code",
   "execution_count": 116,
   "metadata": {},
   "outputs": [],
   "source": [
    "brr = np.zeros(12)"
   ]
  },
  {
   "cell_type": "code",
   "execution_count": 118,
   "metadata": {},
   "outputs": [],
   "source": [
    "l = 0\n",
    "r = 0\n",
    "#class_cou =  [0 for i in range(len(classes))]\n",
    "for i in range(len(image_ids)):\n",
    "    annotations_ids = coco.getAnnIds(imgIds=image_ids[i], iscrowd=False)\n",
    "\n",
    "    coco_annotations = coco.loadAnns(annotations_ids)\n",
    "    for j in range(len(coco_annotations)):\n",
    "        tem_size = coco_annotations[j]['bbox'][2] * coco_annotations[j]['bbox'][3] # w, h\n",
    "        #sizetocate(tem_size)\n",
    "        if tem_size <= mid_down:\n",
    "            brr[coco_annotations[j]['category_id']] += 1\n",
    "        elif tem_size <= mid_up:\n",
    "            brr[coco_annotations[j]['category_id']] += 1\n",
    "        else:\n",
    "            brr[coco_annotations[j]['category_id']] += 1"
   ]
  },
  {
   "cell_type": "code",
   "execution_count": 130,
   "metadata": {},
   "outputs": [
    {
     "output_type": "stream",
     "name": "stdout",
     "text": [
      " UNKNOWN  :\t160.0 \t 0.01\n General trash  :\t2782.0 \t 0.11\n Paper  :\t9311.0 \t 0.35\n Paper pack  :\t659.0 \t 0.02\n Metal  :\t562.0 \t 0.02\n Glass  :\t610.0 \t 0.02\n Plastic  :\t3090.0 \t 0.12\n Styrofoam  :\t1343.0 \t 0.05\n Plastic bag  :\t7643.0 \t 0.29\n Battery  :\t63.0 \t 0.00\n Clothing  :\t177.0 \t 0.01\n"
     ]
    }
   ],
   "source": [
    "for i in range(11):\n",
    "    print(f' {classes[i]}  :\\t{brr[i]} \\t{brr[i]/26400 : .2f}')\n",
    " "
   ]
  },
  {
   "cell_type": "code",
   "execution_count": 107,
   "metadata": {},
   "outputs": [
    {
     "output_type": "stream",
     "name": "stdout",
     "text": [
      "Collecting seaborn\n",
      "  Downloading seaborn-0.11.1-py3-none-any.whl (285 kB)\n",
      "\u001b[K     |████████████████████████████████| 285 kB 2.0 MB/s \n",
      "\u001b[?25hRequirement already satisfied: matplotlib>=2.2 in /opt/conda/lib/python3.7/site-packages (from seaborn) (3.4.2)\n",
      "Requirement already satisfied: pandas>=0.23 in /opt/conda/lib/python3.7/site-packages (from seaborn) (1.2.4)\n",
      "Requirement already satisfied: scipy>=1.0 in /opt/conda/lib/python3.7/site-packages (from seaborn) (1.6.3)\n",
      "Requirement already satisfied: numpy>=1.15 in /opt/conda/lib/python3.7/site-packages (from seaborn) (1.18.5)\n",
      "Requirement already satisfied: pillow>=6.2.0 in /opt/conda/lib/python3.7/site-packages (from matplotlib>=2.2->seaborn) (7.2.0)\n",
      "Requirement already satisfied: kiwisolver>=1.0.1 in /opt/conda/lib/python3.7/site-packages (from matplotlib>=2.2->seaborn) (1.3.1)\n",
      "Requirement already satisfied: pyparsing>=2.2.1 in /opt/conda/lib/python3.7/site-packages (from matplotlib>=2.2->seaborn) (2.4.7)\n",
      "Requirement already satisfied: python-dateutil>=2.7 in /opt/conda/lib/python3.7/site-packages (from matplotlib>=2.2->seaborn) (2.8.1)\n",
      "Requirement already satisfied: cycler>=0.10 in /opt/conda/lib/python3.7/site-packages (from matplotlib>=2.2->seaborn) (0.10.0)\n",
      "Requirement already satisfied: pytz>=2017.3 in /opt/conda/lib/python3.7/site-packages (from pandas>=0.23->seaborn) (2020.1)\n",
      "Requirement already satisfied: six>=1.5 in /opt/conda/lib/python3.7/site-packages (from python-dateutil>=2.7->matplotlib>=2.2->seaborn) (1.14.0)\n",
      "Installing collected packages: seaborn\n",
      "Successfully installed seaborn-0.11.1\n",
      "Note: you may need to restart the kernel to use updated packages.\n"
     ]
    }
   ],
   "source": [
    "pip install seaborn"
   ]
  },
  {
   "cell_type": "code",
   "execution_count": 106,
   "metadata": {},
   "outputs": [
    {
     "output_type": "error",
     "ename": "ModuleNotFoundError",
     "evalue": "No module named 'seaborn'",
     "traceback": [
      "\u001b[0;31m---------------------------------------------------------------------------\u001b[0m",
      "\u001b[0;31mModuleNotFoundError\u001b[0m                       Traceback (most recent call last)",
      "\u001b[0;32m<ipython-input-106-a84c0541e888>\u001b[0m in \u001b[0;36m<module>\u001b[0;34m\u001b[0m\n\u001b[0;32m----> 1\u001b[0;31m \u001b[0;32mimport\u001b[0m \u001b[0mseaborn\u001b[0m \u001b[0;32mas\u001b[0m \u001b[0msns\u001b[0m\u001b[0;34m\u001b[0m\u001b[0;34m\u001b[0m\u001b[0m\n\u001b[0m",
      "\u001b[0;31mModuleNotFoundError\u001b[0m: No module named 'seaborn'"
     ]
    }
   ],
   "source": [
    "import seaborn as sns"
   ]
  },
  {
   "cell_type": "code",
   "execution_count": 86,
   "metadata": {},
   "outputs": [
    {
     "output_type": "stream",
     "name": "stdout",
     "text": [
      "14766 11634\n0.5593181818181818 0.4406818181818182\n"
     ]
    }
   ],
   "source": [
    "s = l + r\n",
    "print(l, r)\n",
    "print(l /s , r / s)"
   ]
  },
  {
   "cell_type": "code",
   "execution_count": null,
   "metadata": {},
   "outputs": [],
   "source": [
    "\n",
    "        for idx, a in enumerate(coco_annotations):\n",
    "            # some annotations have basically no width / height, skip them\n",
    "            if a['bbox'][2] < 1 or a['bbox'][3] < 1:\n",
    "                continue\n",
    "            annotation = np.zeros((1, 5))\n",
    "            annotation[0, :4] = a['bbox']\n",
    "            annotation[0, 4] = self.coco_label_to_label(a['category_id'])\n",
    "            annotations = np.append(annotations, annotation, axis=0)\n",
    "            \n",
    "        # transform from [x, y, w, h] to [x1, y1, x2, y2]\n",
    "        annotations[:, 2] = annotations[:, 0] + annotations[:, 2]\n",
    "        annotations[:, 3] = annotations[:, 1] + annotations[:, 3]\n",
    "        \n",
    "        return annotations\n"
   ]
  }
 ]
}